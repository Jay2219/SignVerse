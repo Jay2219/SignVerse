{
 "cells": [
  {
   "cell_type": "code",
   "execution_count": 1,
   "id": "025b78a8",
   "metadata": {},
   "outputs": [],
   "source": [
    "!pip install opendatasets --quiet"
   ]
  },
  {
   "cell_type": "code",
   "execution_count": 2,
   "id": "eb0c0d00",
   "metadata": {},
   "outputs": [],
   "source": [
    "import os \n",
    "import cv2\n",
    "import numpy as np\n",
    "import pandas as pd\n",
    "import matplotlib.pyplot as plt\n",
    "import seaborn as sns\n",
    "import tensorflow as tf\n",
    "import keras\n",
    "from keras.models import Sequential,Model\n",
    "from keras.layers import Dense,Flatten,Dropout,BatchNormalization,Conv2D,MaxPool2D\n",
    "from keras.preprocessing.image import ImageDataGenerator\n",
    "from tqdm import tqdm\n",
    "from sklearn.model_selection import train_test_split\n",
    "from  skimage.transform import resize\n",
    "from keras.utils import to_categorical\n",
    "from keras.applications.inception_v3 import InceptionV3\n",
    "from keras.callbacks import ReduceLROnPlateau\n",
    "from tensorflow.keras.optimizers import RMSprop, Adam, SGD\n",
    "import pickle\n",
    "\n",
    "import os\n",
    "import torch\n",
    "import torchvision\n",
    "import tarfile\n",
    "import torch.nn as nn\n",
    "import torch.nn.functional as F\n",
    "from torchvision.datasets.utils import download_url\n",
    "from torchvision.datasets import ImageFolder\n",
    "from torch.utils.data import DataLoader, SubsetRandomSampler\n",
    "import torchvision.transforms as tt\n",
    "from torch.utils.data import random_split\n",
    "from torchvision.utils import make_grid\n",
    "import matplotlib\n",
    "import opendatasets as od\n",
    "%matplotlib inline\n",
    "\n",
    "matplotlib.rcParams['figure.facecolor'] = '#ffffff'"
   ]
  },
  {
   "cell_type": "code",
   "execution_count": 3,
   "id": "03521e20",
   "metadata": {},
   "outputs": [],
   "source": [
    "project_name='indian-sign-language'"
   ]
  },
  {
   "cell_type": "code",
   "execution_count": 4,
   "id": "ef6aba96",
   "metadata": {},
   "outputs": [
    {
     "name": "stdout",
     "output_type": "stream",
     "text": [
      "Skipping, found downloaded files in \".\\indian-sign-language-dataset\" (use force=True to force download)\n"
     ]
    }
   ],
   "source": [
    "# Dowload the dataset\n",
    "# Execute this cell if you're running this in colab\n",
    "dataset_url = \"https://www.kaggle.com/vaishnaviasonawane/indian-sign-language-dataset\"\n",
    "od.download(dataset_url)"
   ]
  },
  {
   "cell_type": "code",
   "execution_count": 4,
   "id": "707dd809",
   "metadata": {},
   "outputs": [
    {
     "name": "stdout",
     "output_type": "stream",
     "text": [
      "['1', '2', '3', '4', '5', '6', '7', '8', '9', 'A', 'B', 'C', 'D', 'E', 'F', 'G', 'H', 'I', 'J', 'K', 'L', 'M', 'N', 'O', 'P', 'Q', 'R', 'S', 'T', 'U', 'V', 'W', 'X', 'Y', 'Z']\n"
     ]
    },
    {
     "data": {
      "text/plain": [
       "35"
      ]
     },
     "execution_count": 4,
     "metadata": {},
     "output_type": "execute_result"
    }
   ],
   "source": [
    "training_dir=\"./indian-sign-language-dataset/data\"\n",
    "content=sorted(os.listdir(training_dir))\n",
    "print(content)\n",
    "len(content)"
   ]
  },
  {
   "cell_type": "code",
   "execution_count": 5,
   "id": "42ab3c43",
   "metadata": {},
   "outputs": [
    {
     "name": "stdout",
     "output_type": "stream",
     "text": [
      "Found 37800 images belonging to 35 classes.\n",
      "Found 4200 images belonging to 35 classes.\n"
     ]
    }
   ],
   "source": [
    "data_generator = ImageDataGenerator(\n",
    "    samplewise_center=True, \n",
    "    samplewise_std_normalization=True,\n",
    "    brightness_range=[0.8, 1.0],\n",
    "    zoom_range=[1.0, 1.2],\n",
    "    validation_split=0.1\n",
    ")\n",
    "\n",
    "train_generator = data_generator.flow_from_directory(training_dir, target_size=(200,200), shuffle=True, seed=13,\n",
    "                                                     class_mode='categorical', batch_size=64, subset=\"training\")\n",
    "\n",
    "validation_generator = data_generator.flow_from_directory(training_dir, target_size=(200, 200), shuffle=True, seed=13,\n",
    "                                                     class_mode='categorical', batch_size=64, subset=\"validation\")"
   ]
  },
  {
   "cell_type": "code",
   "execution_count": 6,
   "id": "06e9fd0f",
   "metadata": {
    "scrolled": false
   },
   "outputs": [
    {
     "name": "stdout",
     "output_type": "stream",
     "text": [
      "Model: \"inception_v3\"\n",
      "__________________________________________________________________________________________________\n",
      " Layer (type)                   Output Shape         Param #     Connected to                     \n",
      "==================================================================================================\n",
      " input_1 (InputLayer)           [(None, 200, 200, 3  0           []                               \n",
      "                                )]                                                                \n",
      "                                                                                                  \n",
      " conv2d (Conv2D)                (None, 99, 99, 32)   864         ['input_1[0][0]']                \n",
      "                                                                                                  \n",
      " batch_normalization (BatchNorm  (None, 99, 99, 32)  96          ['conv2d[0][0]']                 \n",
      " alization)                                                                                       \n",
      "                                                                                                  \n",
      " activation (Activation)        (None, 99, 99, 32)   0           ['batch_normalization[0][0]']    \n",
      "                                                                                                  \n",
      " conv2d_1 (Conv2D)              (None, 97, 97, 32)   9216        ['activation[0][0]']             \n",
      "                                                                                                  \n",
      " batch_normalization_1 (BatchNo  (None, 97, 97, 32)  96          ['conv2d_1[0][0]']               \n",
      " rmalization)                                                                                     \n",
      "                                                                                                  \n",
      " activation_1 (Activation)      (None, 97, 97, 32)   0           ['batch_normalization_1[0][0]']  \n",
      "                                                                                                  \n",
      " conv2d_2 (Conv2D)              (None, 97, 97, 64)   18432       ['activation_1[0][0]']           \n",
      "                                                                                                  \n",
      " batch_normalization_2 (BatchNo  (None, 97, 97, 64)  192         ['conv2d_2[0][0]']               \n",
      " rmalization)                                                                                     \n",
      "                                                                                                  \n",
      " activation_2 (Activation)      (None, 97, 97, 64)   0           ['batch_normalization_2[0][0]']  \n",
      "                                                                                                  \n",
      " max_pooling2d (MaxPooling2D)   (None, 48, 48, 64)   0           ['activation_2[0][0]']           \n",
      "                                                                                                  \n",
      " conv2d_3 (Conv2D)              (None, 48, 48, 80)   5120        ['max_pooling2d[0][0]']          \n",
      "                                                                                                  \n",
      " batch_normalization_3 (BatchNo  (None, 48, 48, 80)  240         ['conv2d_3[0][0]']               \n",
      " rmalization)                                                                                     \n",
      "                                                                                                  \n",
      " activation_3 (Activation)      (None, 48, 48, 80)   0           ['batch_normalization_3[0][0]']  \n",
      "                                                                                                  \n",
      " conv2d_4 (Conv2D)              (None, 46, 46, 192)  138240      ['activation_3[0][0]']           \n",
      "                                                                                                  \n",
      " batch_normalization_4 (BatchNo  (None, 46, 46, 192)  576        ['conv2d_4[0][0]']               \n",
      " rmalization)                                                                                     \n",
      "                                                                                                  \n",
      " activation_4 (Activation)      (None, 46, 46, 192)  0           ['batch_normalization_4[0][0]']  \n",
      "                                                                                                  \n",
      " max_pooling2d_1 (MaxPooling2D)  (None, 22, 22, 192)  0          ['activation_4[0][0]']           \n",
      "                                                                                                  \n",
      " conv2d_8 (Conv2D)              (None, 22, 22, 64)   12288       ['max_pooling2d_1[0][0]']        \n",
      "                                                                                                  \n",
      " batch_normalization_8 (BatchNo  (None, 22, 22, 64)  192         ['conv2d_8[0][0]']               \n",
      " rmalization)                                                                                     \n",
      "                                                                                                  \n",
      " activation_8 (Activation)      (None, 22, 22, 64)   0           ['batch_normalization_8[0][0]']  \n",
      "                                                                                                  \n",
      " conv2d_6 (Conv2D)              (None, 22, 22, 48)   9216        ['max_pooling2d_1[0][0]']        \n",
      "                                                                                                  \n",
      " conv2d_9 (Conv2D)              (None, 22, 22, 96)   55296       ['activation_8[0][0]']           \n",
      "                                                                                                  \n",
      " batch_normalization_6 (BatchNo  (None, 22, 22, 48)  144         ['conv2d_6[0][0]']               \n",
      " rmalization)                                                                                     \n",
      "                                                                                                  \n",
      " batch_normalization_9 (BatchNo  (None, 22, 22, 96)  288         ['conv2d_9[0][0]']               \n",
      " rmalization)                                                                                     \n",
      "                                                                                                  \n",
      " activation_6 (Activation)      (None, 22, 22, 48)   0           ['batch_normalization_6[0][0]']  \n",
      "                                                                                                  \n",
      " activation_9 (Activation)      (None, 22, 22, 96)   0           ['batch_normalization_9[0][0]']  \n",
      "                                                                                                  \n",
      " average_pooling2d (AveragePool  (None, 22, 22, 192)  0          ['max_pooling2d_1[0][0]']        \n",
      " ing2D)                                                                                           \n",
      "                                                                                                  \n",
      " conv2d_5 (Conv2D)              (None, 22, 22, 64)   12288       ['max_pooling2d_1[0][0]']        \n",
      "                                                                                                  \n",
      " conv2d_7 (Conv2D)              (None, 22, 22, 64)   76800       ['activation_6[0][0]']           \n",
      "                                                                                                  \n",
      " conv2d_10 (Conv2D)             (None, 22, 22, 96)   82944       ['activation_9[0][0]']           \n",
      "                                                                                                  \n",
      " conv2d_11 (Conv2D)             (None, 22, 22, 32)   6144        ['average_pooling2d[0][0]']      \n",
      "                                                                                                  \n",
      " batch_normalization_5 (BatchNo  (None, 22, 22, 64)  192         ['conv2d_5[0][0]']               \n",
      " rmalization)                                                                                     \n",
      "                                                                                                  \n",
      " batch_normalization_7 (BatchNo  (None, 22, 22, 64)  192         ['conv2d_7[0][0]']               \n",
      " rmalization)                                                                                     \n",
      "                                                                                                  \n"
     ]
    },
    {
     "name": "stdout",
     "output_type": "stream",
     "text": [
      " batch_normalization_10 (BatchN  (None, 22, 22, 96)  288         ['conv2d_10[0][0]']              \n",
      " ormalization)                                                                                    \n",
      "                                                                                                  \n",
      " batch_normalization_11 (BatchN  (None, 22, 22, 32)  96          ['conv2d_11[0][0]']              \n",
      " ormalization)                                                                                    \n",
      "                                                                                                  \n",
      " activation_5 (Activation)      (None, 22, 22, 64)   0           ['batch_normalization_5[0][0]']  \n",
      "                                                                                                  \n",
      " activation_7 (Activation)      (None, 22, 22, 64)   0           ['batch_normalization_7[0][0]']  \n",
      "                                                                                                  \n",
      " activation_10 (Activation)     (None, 22, 22, 96)   0           ['batch_normalization_10[0][0]'] \n",
      "                                                                                                  \n",
      " activation_11 (Activation)     (None, 22, 22, 32)   0           ['batch_normalization_11[0][0]'] \n",
      "                                                                                                  \n",
      " mixed0 (Concatenate)           (None, 22, 22, 256)  0           ['activation_5[0][0]',           \n",
      "                                                                  'activation_7[0][0]',           \n",
      "                                                                  'activation_10[0][0]',          \n",
      "                                                                  'activation_11[0][0]']          \n",
      "                                                                                                  \n",
      " conv2d_15 (Conv2D)             (None, 22, 22, 64)   16384       ['mixed0[0][0]']                 \n",
      "                                                                                                  \n",
      " batch_normalization_15 (BatchN  (None, 22, 22, 64)  192         ['conv2d_15[0][0]']              \n",
      " ormalization)                                                                                    \n",
      "                                                                                                  \n",
      " activation_15 (Activation)     (None, 22, 22, 64)   0           ['batch_normalization_15[0][0]'] \n",
      "                                                                                                  \n",
      " conv2d_13 (Conv2D)             (None, 22, 22, 48)   12288       ['mixed0[0][0]']                 \n",
      "                                                                                                  \n",
      " conv2d_16 (Conv2D)             (None, 22, 22, 96)   55296       ['activation_15[0][0]']          \n",
      "                                                                                                  \n",
      " batch_normalization_13 (BatchN  (None, 22, 22, 48)  144         ['conv2d_13[0][0]']              \n",
      " ormalization)                                                                                    \n",
      "                                                                                                  \n",
      " batch_normalization_16 (BatchN  (None, 22, 22, 96)  288         ['conv2d_16[0][0]']              \n",
      " ormalization)                                                                                    \n",
      "                                                                                                  \n",
      " activation_13 (Activation)     (None, 22, 22, 48)   0           ['batch_normalization_13[0][0]'] \n",
      "                                                                                                  \n",
      " activation_16 (Activation)     (None, 22, 22, 96)   0           ['batch_normalization_16[0][0]'] \n",
      "                                                                                                  \n",
      " average_pooling2d_1 (AveragePo  (None, 22, 22, 256)  0          ['mixed0[0][0]']                 \n",
      " oling2D)                                                                                         \n",
      "                                                                                                  \n",
      " conv2d_12 (Conv2D)             (None, 22, 22, 64)   16384       ['mixed0[0][0]']                 \n",
      "                                                                                                  \n",
      " conv2d_14 (Conv2D)             (None, 22, 22, 64)   76800       ['activation_13[0][0]']          \n",
      "                                                                                                  \n",
      " conv2d_17 (Conv2D)             (None, 22, 22, 96)   82944       ['activation_16[0][0]']          \n",
      "                                                                                                  \n",
      " conv2d_18 (Conv2D)             (None, 22, 22, 64)   16384       ['average_pooling2d_1[0][0]']    \n",
      "                                                                                                  \n",
      " batch_normalization_12 (BatchN  (None, 22, 22, 64)  192         ['conv2d_12[0][0]']              \n",
      " ormalization)                                                                                    \n",
      "                                                                                                  \n",
      " batch_normalization_14 (BatchN  (None, 22, 22, 64)  192         ['conv2d_14[0][0]']              \n",
      " ormalization)                                                                                    \n",
      "                                                                                                  \n",
      " batch_normalization_17 (BatchN  (None, 22, 22, 96)  288         ['conv2d_17[0][0]']              \n",
      " ormalization)                                                                                    \n",
      "                                                                                                  \n",
      " batch_normalization_18 (BatchN  (None, 22, 22, 64)  192         ['conv2d_18[0][0]']              \n",
      " ormalization)                                                                                    \n",
      "                                                                                                  \n",
      " activation_12 (Activation)     (None, 22, 22, 64)   0           ['batch_normalization_12[0][0]'] \n",
      "                                                                                                  \n",
      " activation_14 (Activation)     (None, 22, 22, 64)   0           ['batch_normalization_14[0][0]'] \n",
      "                                                                                                  \n",
      " activation_17 (Activation)     (None, 22, 22, 96)   0           ['batch_normalization_17[0][0]'] \n",
      "                                                                                                  \n",
      " activation_18 (Activation)     (None, 22, 22, 64)   0           ['batch_normalization_18[0][0]'] \n",
      "                                                                                                  \n",
      " mixed1 (Concatenate)           (None, 22, 22, 288)  0           ['activation_12[0][0]',          \n",
      "                                                                  'activation_14[0][0]',          \n",
      "                                                                  'activation_17[0][0]',          \n",
      "                                                                  'activation_18[0][0]']          \n",
      "                                                                                                  \n",
      " conv2d_22 (Conv2D)             (None, 22, 22, 64)   18432       ['mixed1[0][0]']                 \n",
      "                                                                                                  \n",
      " batch_normalization_22 (BatchN  (None, 22, 22, 64)  192         ['conv2d_22[0][0]']              \n",
      " ormalization)                                                                                    \n",
      "                                                                                                  \n",
      " activation_22 (Activation)     (None, 22, 22, 64)   0           ['batch_normalization_22[0][0]'] \n",
      "                                                                                                  \n"
     ]
    },
    {
     "name": "stdout",
     "output_type": "stream",
     "text": [
      " conv2d_20 (Conv2D)             (None, 22, 22, 48)   13824       ['mixed1[0][0]']                 \n",
      "                                                                                                  \n",
      " conv2d_23 (Conv2D)             (None, 22, 22, 96)   55296       ['activation_22[0][0]']          \n",
      "                                                                                                  \n",
      " batch_normalization_20 (BatchN  (None, 22, 22, 48)  144         ['conv2d_20[0][0]']              \n",
      " ormalization)                                                                                    \n",
      "                                                                                                  \n",
      " batch_normalization_23 (BatchN  (None, 22, 22, 96)  288         ['conv2d_23[0][0]']              \n",
      " ormalization)                                                                                    \n",
      "                                                                                                  \n",
      " activation_20 (Activation)     (None, 22, 22, 48)   0           ['batch_normalization_20[0][0]'] \n",
      "                                                                                                  \n",
      " activation_23 (Activation)     (None, 22, 22, 96)   0           ['batch_normalization_23[0][0]'] \n",
      "                                                                                                  \n",
      " average_pooling2d_2 (AveragePo  (None, 22, 22, 288)  0          ['mixed1[0][0]']                 \n",
      " oling2D)                                                                                         \n",
      "                                                                                                  \n",
      " conv2d_19 (Conv2D)             (None, 22, 22, 64)   18432       ['mixed1[0][0]']                 \n",
      "                                                                                                  \n",
      " conv2d_21 (Conv2D)             (None, 22, 22, 64)   76800       ['activation_20[0][0]']          \n",
      "                                                                                                  \n",
      " conv2d_24 (Conv2D)             (None, 22, 22, 96)   82944       ['activation_23[0][0]']          \n",
      "                                                                                                  \n",
      " conv2d_25 (Conv2D)             (None, 22, 22, 64)   18432       ['average_pooling2d_2[0][0]']    \n",
      "                                                                                                  \n",
      " batch_normalization_19 (BatchN  (None, 22, 22, 64)  192         ['conv2d_19[0][0]']              \n",
      " ormalization)                                                                                    \n",
      "                                                                                                  \n",
      " batch_normalization_21 (BatchN  (None, 22, 22, 64)  192         ['conv2d_21[0][0]']              \n",
      " ormalization)                                                                                    \n",
      "                                                                                                  \n",
      " batch_normalization_24 (BatchN  (None, 22, 22, 96)  288         ['conv2d_24[0][0]']              \n",
      " ormalization)                                                                                    \n",
      "                                                                                                  \n",
      " batch_normalization_25 (BatchN  (None, 22, 22, 64)  192         ['conv2d_25[0][0]']              \n",
      " ormalization)                                                                                    \n",
      "                                                                                                  \n",
      " activation_19 (Activation)     (None, 22, 22, 64)   0           ['batch_normalization_19[0][0]'] \n",
      "                                                                                                  \n",
      " activation_21 (Activation)     (None, 22, 22, 64)   0           ['batch_normalization_21[0][0]'] \n",
      "                                                                                                  \n",
      " activation_24 (Activation)     (None, 22, 22, 96)   0           ['batch_normalization_24[0][0]'] \n",
      "                                                                                                  \n",
      " activation_25 (Activation)     (None, 22, 22, 64)   0           ['batch_normalization_25[0][0]'] \n",
      "                                                                                                  \n",
      " mixed2 (Concatenate)           (None, 22, 22, 288)  0           ['activation_19[0][0]',          \n",
      "                                                                  'activation_21[0][0]',          \n",
      "                                                                  'activation_24[0][0]',          \n",
      "                                                                  'activation_25[0][0]']          \n",
      "                                                                                                  \n",
      " conv2d_27 (Conv2D)             (None, 22, 22, 64)   18432       ['mixed2[0][0]']                 \n",
      "                                                                                                  \n",
      " batch_normalization_27 (BatchN  (None, 22, 22, 64)  192         ['conv2d_27[0][0]']              \n",
      " ormalization)                                                                                    \n",
      "                                                                                                  \n",
      " activation_27 (Activation)     (None, 22, 22, 64)   0           ['batch_normalization_27[0][0]'] \n",
      "                                                                                                  \n",
      " conv2d_28 (Conv2D)             (None, 22, 22, 96)   55296       ['activation_27[0][0]']          \n",
      "                                                                                                  \n",
      " batch_normalization_28 (BatchN  (None, 22, 22, 96)  288         ['conv2d_28[0][0]']              \n",
      " ormalization)                                                                                    \n",
      "                                                                                                  \n",
      " activation_28 (Activation)     (None, 22, 22, 96)   0           ['batch_normalization_28[0][0]'] \n",
      "                                                                                                  \n",
      " conv2d_26 (Conv2D)             (None, 10, 10, 384)  995328      ['mixed2[0][0]']                 \n",
      "                                                                                                  \n",
      " conv2d_29 (Conv2D)             (None, 10, 10, 96)   82944       ['activation_28[0][0]']          \n",
      "                                                                                                  \n",
      " batch_normalization_26 (BatchN  (None, 10, 10, 384)  1152       ['conv2d_26[0][0]']              \n",
      " ormalization)                                                                                    \n",
      "                                                                                                  \n",
      " batch_normalization_29 (BatchN  (None, 10, 10, 96)  288         ['conv2d_29[0][0]']              \n",
      " ormalization)                                                                                    \n",
      "                                                                                                  \n",
      " activation_26 (Activation)     (None, 10, 10, 384)  0           ['batch_normalization_26[0][0]'] \n",
      "                                                                                                  \n",
      " activation_29 (Activation)     (None, 10, 10, 96)   0           ['batch_normalization_29[0][0]'] \n",
      "                                                                                                  \n",
      " max_pooling2d_2 (MaxPooling2D)  (None, 10, 10, 288)  0          ['mixed2[0][0]']                 \n",
      "                                                                                                  \n",
      " mixed3 (Concatenate)           (None, 10, 10, 768)  0           ['activation_26[0][0]',          \n",
      "                                                                  'activation_29[0][0]',          \n",
      "                                                                  'max_pooling2d_2[0][0]']        \n"
     ]
    },
    {
     "name": "stdout",
     "output_type": "stream",
     "text": [
      "                                                                                                  \n",
      " conv2d_34 (Conv2D)             (None, 10, 10, 128)  98304       ['mixed3[0][0]']                 \n",
      "                                                                                                  \n",
      " batch_normalization_34 (BatchN  (None, 10, 10, 128)  384        ['conv2d_34[0][0]']              \n",
      " ormalization)                                                                                    \n",
      "                                                                                                  \n",
      " activation_34 (Activation)     (None, 10, 10, 128)  0           ['batch_normalization_34[0][0]'] \n",
      "                                                                                                  \n",
      " conv2d_35 (Conv2D)             (None, 10, 10, 128)  114688      ['activation_34[0][0]']          \n",
      "                                                                                                  \n",
      " batch_normalization_35 (BatchN  (None, 10, 10, 128)  384        ['conv2d_35[0][0]']              \n",
      " ormalization)                                                                                    \n",
      "                                                                                                  \n",
      " activation_35 (Activation)     (None, 10, 10, 128)  0           ['batch_normalization_35[0][0]'] \n",
      "                                                                                                  \n",
      " conv2d_31 (Conv2D)             (None, 10, 10, 128)  98304       ['mixed3[0][0]']                 \n",
      "                                                                                                  \n",
      " conv2d_36 (Conv2D)             (None, 10, 10, 128)  114688      ['activation_35[0][0]']          \n",
      "                                                                                                  \n",
      " batch_normalization_31 (BatchN  (None, 10, 10, 128)  384        ['conv2d_31[0][0]']              \n",
      " ormalization)                                                                                    \n",
      "                                                                                                  \n",
      " batch_normalization_36 (BatchN  (None, 10, 10, 128)  384        ['conv2d_36[0][0]']              \n",
      " ormalization)                                                                                    \n",
      "                                                                                                  \n",
      " activation_31 (Activation)     (None, 10, 10, 128)  0           ['batch_normalization_31[0][0]'] \n",
      "                                                                                                  \n",
      " activation_36 (Activation)     (None, 10, 10, 128)  0           ['batch_normalization_36[0][0]'] \n",
      "                                                                                                  \n",
      " conv2d_32 (Conv2D)             (None, 10, 10, 128)  114688      ['activation_31[0][0]']          \n",
      "                                                                                                  \n",
      " conv2d_37 (Conv2D)             (None, 10, 10, 128)  114688      ['activation_36[0][0]']          \n",
      "                                                                                                  \n",
      " batch_normalization_32 (BatchN  (None, 10, 10, 128)  384        ['conv2d_32[0][0]']              \n",
      " ormalization)                                                                                    \n",
      "                                                                                                  \n",
      " batch_normalization_37 (BatchN  (None, 10, 10, 128)  384        ['conv2d_37[0][0]']              \n",
      " ormalization)                                                                                    \n",
      "                                                                                                  \n",
      " activation_32 (Activation)     (None, 10, 10, 128)  0           ['batch_normalization_32[0][0]'] \n",
      "                                                                                                  \n",
      " activation_37 (Activation)     (None, 10, 10, 128)  0           ['batch_normalization_37[0][0]'] \n",
      "                                                                                                  \n",
      " average_pooling2d_3 (AveragePo  (None, 10, 10, 768)  0          ['mixed3[0][0]']                 \n",
      " oling2D)                                                                                         \n",
      "                                                                                                  \n",
      " conv2d_30 (Conv2D)             (None, 10, 10, 192)  147456      ['mixed3[0][0]']                 \n",
      "                                                                                                  \n",
      " conv2d_33 (Conv2D)             (None, 10, 10, 192)  172032      ['activation_32[0][0]']          \n",
      "                                                                                                  \n",
      " conv2d_38 (Conv2D)             (None, 10, 10, 192)  172032      ['activation_37[0][0]']          \n",
      "                                                                                                  \n",
      " conv2d_39 (Conv2D)             (None, 10, 10, 192)  147456      ['average_pooling2d_3[0][0]']    \n",
      "                                                                                                  \n",
      " batch_normalization_30 (BatchN  (None, 10, 10, 192)  576        ['conv2d_30[0][0]']              \n",
      " ormalization)                                                                                    \n",
      "                                                                                                  \n",
      " batch_normalization_33 (BatchN  (None, 10, 10, 192)  576        ['conv2d_33[0][0]']              \n",
      " ormalization)                                                                                    \n",
      "                                                                                                  \n",
      " batch_normalization_38 (BatchN  (None, 10, 10, 192)  576        ['conv2d_38[0][0]']              \n",
      " ormalization)                                                                                    \n",
      "                                                                                                  \n",
      " batch_normalization_39 (BatchN  (None, 10, 10, 192)  576        ['conv2d_39[0][0]']              \n",
      " ormalization)                                                                                    \n",
      "                                                                                                  \n",
      " activation_30 (Activation)     (None, 10, 10, 192)  0           ['batch_normalization_30[0][0]'] \n",
      "                                                                                                  \n",
      " activation_33 (Activation)     (None, 10, 10, 192)  0           ['batch_normalization_33[0][0]'] \n",
      "                                                                                                  \n",
      " activation_38 (Activation)     (None, 10, 10, 192)  0           ['batch_normalization_38[0][0]'] \n",
      "                                                                                                  \n",
      " activation_39 (Activation)     (None, 10, 10, 192)  0           ['batch_normalization_39[0][0]'] \n",
      "                                                                                                  \n",
      " mixed4 (Concatenate)           (None, 10, 10, 768)  0           ['activation_30[0][0]',          \n",
      "                                                                  'activation_33[0][0]',          \n",
      "                                                                  'activation_38[0][0]',          \n",
      "                                                                  'activation_39[0][0]']          \n",
      "                                                                                                  \n",
      " conv2d_44 (Conv2D)             (None, 10, 10, 160)  122880      ['mixed4[0][0]']                 \n",
      "                                                                                                  \n",
      " batch_normalization_44 (BatchN  (None, 10, 10, 160)  480        ['conv2d_44[0][0]']              \n",
      " ormalization)                                                                                    \n"
     ]
    },
    {
     "name": "stdout",
     "output_type": "stream",
     "text": [
      "                                                                                                  \n",
      " activation_44 (Activation)     (None, 10, 10, 160)  0           ['batch_normalization_44[0][0]'] \n",
      "                                                                                                  \n",
      " conv2d_45 (Conv2D)             (None, 10, 10, 160)  179200      ['activation_44[0][0]']          \n",
      "                                                                                                  \n",
      " batch_normalization_45 (BatchN  (None, 10, 10, 160)  480        ['conv2d_45[0][0]']              \n",
      " ormalization)                                                                                    \n",
      "                                                                                                  \n",
      " activation_45 (Activation)     (None, 10, 10, 160)  0           ['batch_normalization_45[0][0]'] \n",
      "                                                                                                  \n",
      " conv2d_41 (Conv2D)             (None, 10, 10, 160)  122880      ['mixed4[0][0]']                 \n",
      "                                                                                                  \n",
      " conv2d_46 (Conv2D)             (None, 10, 10, 160)  179200      ['activation_45[0][0]']          \n",
      "                                                                                                  \n",
      " batch_normalization_41 (BatchN  (None, 10, 10, 160)  480        ['conv2d_41[0][0]']              \n",
      " ormalization)                                                                                    \n",
      "                                                                                                  \n",
      " batch_normalization_46 (BatchN  (None, 10, 10, 160)  480        ['conv2d_46[0][0]']              \n",
      " ormalization)                                                                                    \n",
      "                                                                                                  \n",
      " activation_41 (Activation)     (None, 10, 10, 160)  0           ['batch_normalization_41[0][0]'] \n",
      "                                                                                                  \n",
      " activation_46 (Activation)     (None, 10, 10, 160)  0           ['batch_normalization_46[0][0]'] \n",
      "                                                                                                  \n",
      " conv2d_42 (Conv2D)             (None, 10, 10, 160)  179200      ['activation_41[0][0]']          \n",
      "                                                                                                  \n",
      " conv2d_47 (Conv2D)             (None, 10, 10, 160)  179200      ['activation_46[0][0]']          \n",
      "                                                                                                  \n",
      " batch_normalization_42 (BatchN  (None, 10, 10, 160)  480        ['conv2d_42[0][0]']              \n",
      " ormalization)                                                                                    \n",
      "                                                                                                  \n",
      " batch_normalization_47 (BatchN  (None, 10, 10, 160)  480        ['conv2d_47[0][0]']              \n",
      " ormalization)                                                                                    \n",
      "                                                                                                  \n",
      " activation_42 (Activation)     (None, 10, 10, 160)  0           ['batch_normalization_42[0][0]'] \n",
      "                                                                                                  \n",
      " activation_47 (Activation)     (None, 10, 10, 160)  0           ['batch_normalization_47[0][0]'] \n",
      "                                                                                                  \n",
      " average_pooling2d_4 (AveragePo  (None, 10, 10, 768)  0          ['mixed4[0][0]']                 \n",
      " oling2D)                                                                                         \n",
      "                                                                                                  \n",
      " conv2d_40 (Conv2D)             (None, 10, 10, 192)  147456      ['mixed4[0][0]']                 \n",
      "                                                                                                  \n",
      " conv2d_43 (Conv2D)             (None, 10, 10, 192)  215040      ['activation_42[0][0]']          \n",
      "                                                                                                  \n",
      " conv2d_48 (Conv2D)             (None, 10, 10, 192)  215040      ['activation_47[0][0]']          \n",
      "                                                                                                  \n",
      " conv2d_49 (Conv2D)             (None, 10, 10, 192)  147456      ['average_pooling2d_4[0][0]']    \n",
      "                                                                                                  \n",
      " batch_normalization_40 (BatchN  (None, 10, 10, 192)  576        ['conv2d_40[0][0]']              \n",
      " ormalization)                                                                                    \n",
      "                                                                                                  \n",
      " batch_normalization_43 (BatchN  (None, 10, 10, 192)  576        ['conv2d_43[0][0]']              \n",
      " ormalization)                                                                                    \n",
      "                                                                                                  \n",
      " batch_normalization_48 (BatchN  (None, 10, 10, 192)  576        ['conv2d_48[0][0]']              \n",
      " ormalization)                                                                                    \n",
      "                                                                                                  \n",
      " batch_normalization_49 (BatchN  (None, 10, 10, 192)  576        ['conv2d_49[0][0]']              \n",
      " ormalization)                                                                                    \n",
      "                                                                                                  \n",
      " activation_40 (Activation)     (None, 10, 10, 192)  0           ['batch_normalization_40[0][0]'] \n",
      "                                                                                                  \n",
      " activation_43 (Activation)     (None, 10, 10, 192)  0           ['batch_normalization_43[0][0]'] \n",
      "                                                                                                  \n",
      " activation_48 (Activation)     (None, 10, 10, 192)  0           ['batch_normalization_48[0][0]'] \n",
      "                                                                                                  \n",
      " activation_49 (Activation)     (None, 10, 10, 192)  0           ['batch_normalization_49[0][0]'] \n",
      "                                                                                                  \n",
      " mixed5 (Concatenate)           (None, 10, 10, 768)  0           ['activation_40[0][0]',          \n",
      "                                                                  'activation_43[0][0]',          \n",
      "                                                                  'activation_48[0][0]',          \n",
      "                                                                  'activation_49[0][0]']          \n",
      "                                                                                                  \n",
      " conv2d_54 (Conv2D)             (None, 10, 10, 160)  122880      ['mixed5[0][0]']                 \n",
      "                                                                                                  \n",
      " batch_normalization_54 (BatchN  (None, 10, 10, 160)  480        ['conv2d_54[0][0]']              \n",
      " ormalization)                                                                                    \n",
      "                                                                                                  \n",
      " activation_54 (Activation)     (None, 10, 10, 160)  0           ['batch_normalization_54[0][0]'] \n",
      "                                                                                                  \n",
      " conv2d_55 (Conv2D)             (None, 10, 10, 160)  179200      ['activation_54[0][0]']          \n",
      "                                                                                                  \n"
     ]
    },
    {
     "name": "stdout",
     "output_type": "stream",
     "text": [
      " batch_normalization_55 (BatchN  (None, 10, 10, 160)  480        ['conv2d_55[0][0]']              \n",
      " ormalization)                                                                                    \n",
      "                                                                                                  \n",
      " activation_55 (Activation)     (None, 10, 10, 160)  0           ['batch_normalization_55[0][0]'] \n",
      "                                                                                                  \n",
      " conv2d_51 (Conv2D)             (None, 10, 10, 160)  122880      ['mixed5[0][0]']                 \n",
      "                                                                                                  \n",
      " conv2d_56 (Conv2D)             (None, 10, 10, 160)  179200      ['activation_55[0][0]']          \n",
      "                                                                                                  \n",
      " batch_normalization_51 (BatchN  (None, 10, 10, 160)  480        ['conv2d_51[0][0]']              \n",
      " ormalization)                                                                                    \n",
      "                                                                                                  \n",
      " batch_normalization_56 (BatchN  (None, 10, 10, 160)  480        ['conv2d_56[0][0]']              \n",
      " ormalization)                                                                                    \n",
      "                                                                                                  \n",
      " activation_51 (Activation)     (None, 10, 10, 160)  0           ['batch_normalization_51[0][0]'] \n",
      "                                                                                                  \n",
      " activation_56 (Activation)     (None, 10, 10, 160)  0           ['batch_normalization_56[0][0]'] \n",
      "                                                                                                  \n",
      " conv2d_52 (Conv2D)             (None, 10, 10, 160)  179200      ['activation_51[0][0]']          \n",
      "                                                                                                  \n",
      " conv2d_57 (Conv2D)             (None, 10, 10, 160)  179200      ['activation_56[0][0]']          \n",
      "                                                                                                  \n",
      " batch_normalization_52 (BatchN  (None, 10, 10, 160)  480        ['conv2d_52[0][0]']              \n",
      " ormalization)                                                                                    \n",
      "                                                                                                  \n",
      " batch_normalization_57 (BatchN  (None, 10, 10, 160)  480        ['conv2d_57[0][0]']              \n",
      " ormalization)                                                                                    \n",
      "                                                                                                  \n",
      " activation_52 (Activation)     (None, 10, 10, 160)  0           ['batch_normalization_52[0][0]'] \n",
      "                                                                                                  \n",
      " activation_57 (Activation)     (None, 10, 10, 160)  0           ['batch_normalization_57[0][0]'] \n",
      "                                                                                                  \n",
      " average_pooling2d_5 (AveragePo  (None, 10, 10, 768)  0          ['mixed5[0][0]']                 \n",
      " oling2D)                                                                                         \n",
      "                                                                                                  \n",
      " conv2d_50 (Conv2D)             (None, 10, 10, 192)  147456      ['mixed5[0][0]']                 \n",
      "                                                                                                  \n",
      " conv2d_53 (Conv2D)             (None, 10, 10, 192)  215040      ['activation_52[0][0]']          \n",
      "                                                                                                  \n",
      " conv2d_58 (Conv2D)             (None, 10, 10, 192)  215040      ['activation_57[0][0]']          \n",
      "                                                                                                  \n",
      " conv2d_59 (Conv2D)             (None, 10, 10, 192)  147456      ['average_pooling2d_5[0][0]']    \n",
      "                                                                                                  \n",
      " batch_normalization_50 (BatchN  (None, 10, 10, 192)  576        ['conv2d_50[0][0]']              \n",
      " ormalization)                                                                                    \n",
      "                                                                                                  \n",
      " batch_normalization_53 (BatchN  (None, 10, 10, 192)  576        ['conv2d_53[0][0]']              \n",
      " ormalization)                                                                                    \n",
      "                                                                                                  \n",
      " batch_normalization_58 (BatchN  (None, 10, 10, 192)  576        ['conv2d_58[0][0]']              \n",
      " ormalization)                                                                                    \n",
      "                                                                                                  \n",
      " batch_normalization_59 (BatchN  (None, 10, 10, 192)  576        ['conv2d_59[0][0]']              \n",
      " ormalization)                                                                                    \n",
      "                                                                                                  \n",
      " activation_50 (Activation)     (None, 10, 10, 192)  0           ['batch_normalization_50[0][0]'] \n",
      "                                                                                                  \n",
      " activation_53 (Activation)     (None, 10, 10, 192)  0           ['batch_normalization_53[0][0]'] \n",
      "                                                                                                  \n",
      " activation_58 (Activation)     (None, 10, 10, 192)  0           ['batch_normalization_58[0][0]'] \n",
      "                                                                                                  \n",
      " activation_59 (Activation)     (None, 10, 10, 192)  0           ['batch_normalization_59[0][0]'] \n",
      "                                                                                                  \n",
      " mixed6 (Concatenate)           (None, 10, 10, 768)  0           ['activation_50[0][0]',          \n",
      "                                                                  'activation_53[0][0]',          \n",
      "                                                                  'activation_58[0][0]',          \n",
      "                                                                  'activation_59[0][0]']          \n",
      "                                                                                                  \n",
      " conv2d_64 (Conv2D)             (None, 10, 10, 192)  147456      ['mixed6[0][0]']                 \n",
      "                                                                                                  \n",
      " batch_normalization_64 (BatchN  (None, 10, 10, 192)  576        ['conv2d_64[0][0]']              \n",
      " ormalization)                                                                                    \n",
      "                                                                                                  \n",
      " activation_64 (Activation)     (None, 10, 10, 192)  0           ['batch_normalization_64[0][0]'] \n",
      "                                                                                                  \n",
      " conv2d_65 (Conv2D)             (None, 10, 10, 192)  258048      ['activation_64[0][0]']          \n",
      "                                                                                                  \n",
      " batch_normalization_65 (BatchN  (None, 10, 10, 192)  576        ['conv2d_65[0][0]']              \n",
      " ormalization)                                                                                    \n",
      "                                                                                                  \n",
      " activation_65 (Activation)     (None, 10, 10, 192)  0           ['batch_normalization_65[0][0]'] \n",
      "                                                                                                  \n"
     ]
    },
    {
     "name": "stdout",
     "output_type": "stream",
     "text": [
      " conv2d_61 (Conv2D)             (None, 10, 10, 192)  147456      ['mixed6[0][0]']                 \n",
      "                                                                                                  \n",
      " conv2d_66 (Conv2D)             (None, 10, 10, 192)  258048      ['activation_65[0][0]']          \n",
      "                                                                                                  \n",
      " batch_normalization_61 (BatchN  (None, 10, 10, 192)  576        ['conv2d_61[0][0]']              \n",
      " ormalization)                                                                                    \n",
      "                                                                                                  \n",
      " batch_normalization_66 (BatchN  (None, 10, 10, 192)  576        ['conv2d_66[0][0]']              \n",
      " ormalization)                                                                                    \n",
      "                                                                                                  \n",
      " activation_61 (Activation)     (None, 10, 10, 192)  0           ['batch_normalization_61[0][0]'] \n",
      "                                                                                                  \n",
      " activation_66 (Activation)     (None, 10, 10, 192)  0           ['batch_normalization_66[0][0]'] \n",
      "                                                                                                  \n",
      " conv2d_62 (Conv2D)             (None, 10, 10, 192)  258048      ['activation_61[0][0]']          \n",
      "                                                                                                  \n",
      " conv2d_67 (Conv2D)             (None, 10, 10, 192)  258048      ['activation_66[0][0]']          \n",
      "                                                                                                  \n",
      " batch_normalization_62 (BatchN  (None, 10, 10, 192)  576        ['conv2d_62[0][0]']              \n",
      " ormalization)                                                                                    \n",
      "                                                                                                  \n",
      " batch_normalization_67 (BatchN  (None, 10, 10, 192)  576        ['conv2d_67[0][0]']              \n",
      " ormalization)                                                                                    \n",
      "                                                                                                  \n",
      " activation_62 (Activation)     (None, 10, 10, 192)  0           ['batch_normalization_62[0][0]'] \n",
      "                                                                                                  \n",
      " activation_67 (Activation)     (None, 10, 10, 192)  0           ['batch_normalization_67[0][0]'] \n",
      "                                                                                                  \n",
      " average_pooling2d_6 (AveragePo  (None, 10, 10, 768)  0          ['mixed6[0][0]']                 \n",
      " oling2D)                                                                                         \n",
      "                                                                                                  \n",
      " conv2d_60 (Conv2D)             (None, 10, 10, 192)  147456      ['mixed6[0][0]']                 \n",
      "                                                                                                  \n",
      " conv2d_63 (Conv2D)             (None, 10, 10, 192)  258048      ['activation_62[0][0]']          \n",
      "                                                                                                  \n",
      " conv2d_68 (Conv2D)             (None, 10, 10, 192)  258048      ['activation_67[0][0]']          \n",
      "                                                                                                  \n",
      " conv2d_69 (Conv2D)             (None, 10, 10, 192)  147456      ['average_pooling2d_6[0][0]']    \n",
      "                                                                                                  \n",
      " batch_normalization_60 (BatchN  (None, 10, 10, 192)  576        ['conv2d_60[0][0]']              \n",
      " ormalization)                                                                                    \n",
      "                                                                                                  \n",
      " batch_normalization_63 (BatchN  (None, 10, 10, 192)  576        ['conv2d_63[0][0]']              \n",
      " ormalization)                                                                                    \n",
      "                                                                                                  \n",
      " batch_normalization_68 (BatchN  (None, 10, 10, 192)  576        ['conv2d_68[0][0]']              \n",
      " ormalization)                                                                                    \n",
      "                                                                                                  \n",
      " batch_normalization_69 (BatchN  (None, 10, 10, 192)  576        ['conv2d_69[0][0]']              \n",
      " ormalization)                                                                                    \n",
      "                                                                                                  \n",
      " activation_60 (Activation)     (None, 10, 10, 192)  0           ['batch_normalization_60[0][0]'] \n",
      "                                                                                                  \n",
      " activation_63 (Activation)     (None, 10, 10, 192)  0           ['batch_normalization_63[0][0]'] \n",
      "                                                                                                  \n",
      " activation_68 (Activation)     (None, 10, 10, 192)  0           ['batch_normalization_68[0][0]'] \n",
      "                                                                                                  \n",
      " activation_69 (Activation)     (None, 10, 10, 192)  0           ['batch_normalization_69[0][0]'] \n",
      "                                                                                                  \n",
      " mixed7 (Concatenate)           (None, 10, 10, 768)  0           ['activation_60[0][0]',          \n",
      "                                                                  'activation_63[0][0]',          \n",
      "                                                                  'activation_68[0][0]',          \n",
      "                                                                  'activation_69[0][0]']          \n",
      "                                                                                                  \n",
      " conv2d_72 (Conv2D)             (None, 10, 10, 192)  147456      ['mixed7[0][0]']                 \n",
      "                                                                                                  \n",
      " batch_normalization_72 (BatchN  (None, 10, 10, 192)  576        ['conv2d_72[0][0]']              \n",
      " ormalization)                                                                                    \n",
      "                                                                                                  \n",
      " activation_72 (Activation)     (None, 10, 10, 192)  0           ['batch_normalization_72[0][0]'] \n",
      "                                                                                                  \n",
      " conv2d_73 (Conv2D)             (None, 10, 10, 192)  258048      ['activation_72[0][0]']          \n",
      "                                                                                                  \n",
      " batch_normalization_73 (BatchN  (None, 10, 10, 192)  576        ['conv2d_73[0][0]']              \n",
      " ormalization)                                                                                    \n",
      "                                                                                                  \n",
      " activation_73 (Activation)     (None, 10, 10, 192)  0           ['batch_normalization_73[0][0]'] \n",
      "                                                                                                  \n",
      " conv2d_70 (Conv2D)             (None, 10, 10, 192)  147456      ['mixed7[0][0]']                 \n",
      "                                                                                                  \n",
      " conv2d_74 (Conv2D)             (None, 10, 10, 192)  258048      ['activation_73[0][0]']          \n",
      "                                                                                                  \n",
      " batch_normalization_70 (BatchN  (None, 10, 10, 192)  576        ['conv2d_70[0][0]']              \n"
     ]
    },
    {
     "name": "stdout",
     "output_type": "stream",
     "text": [
      " ormalization)                                                                                    \n",
      "                                                                                                  \n",
      " batch_normalization_74 (BatchN  (None, 10, 10, 192)  576        ['conv2d_74[0][0]']              \n",
      " ormalization)                                                                                    \n",
      "                                                                                                  \n",
      " activation_70 (Activation)     (None, 10, 10, 192)  0           ['batch_normalization_70[0][0]'] \n",
      "                                                                                                  \n",
      " activation_74 (Activation)     (None, 10, 10, 192)  0           ['batch_normalization_74[0][0]'] \n",
      "                                                                                                  \n",
      " conv2d_71 (Conv2D)             (None, 4, 4, 320)    552960      ['activation_70[0][0]']          \n",
      "                                                                                                  \n",
      " conv2d_75 (Conv2D)             (None, 4, 4, 192)    331776      ['activation_74[0][0]']          \n",
      "                                                                                                  \n",
      " batch_normalization_71 (BatchN  (None, 4, 4, 320)   960         ['conv2d_71[0][0]']              \n",
      " ormalization)                                                                                    \n",
      "                                                                                                  \n",
      " batch_normalization_75 (BatchN  (None, 4, 4, 192)   576         ['conv2d_75[0][0]']              \n",
      " ormalization)                                                                                    \n",
      "                                                                                                  \n",
      " activation_71 (Activation)     (None, 4, 4, 320)    0           ['batch_normalization_71[0][0]'] \n",
      "                                                                                                  \n",
      " activation_75 (Activation)     (None, 4, 4, 192)    0           ['batch_normalization_75[0][0]'] \n",
      "                                                                                                  \n",
      " max_pooling2d_3 (MaxPooling2D)  (None, 4, 4, 768)   0           ['mixed7[0][0]']                 \n",
      "                                                                                                  \n",
      " mixed8 (Concatenate)           (None, 4, 4, 1280)   0           ['activation_71[0][0]',          \n",
      "                                                                  'activation_75[0][0]',          \n",
      "                                                                  'max_pooling2d_3[0][0]']        \n",
      "                                                                                                  \n",
      " conv2d_80 (Conv2D)             (None, 4, 4, 448)    573440      ['mixed8[0][0]']                 \n",
      "                                                                                                  \n",
      " batch_normalization_80 (BatchN  (None, 4, 4, 448)   1344        ['conv2d_80[0][0]']              \n",
      " ormalization)                                                                                    \n",
      "                                                                                                  \n",
      " activation_80 (Activation)     (None, 4, 4, 448)    0           ['batch_normalization_80[0][0]'] \n",
      "                                                                                                  \n",
      " conv2d_77 (Conv2D)             (None, 4, 4, 384)    491520      ['mixed8[0][0]']                 \n",
      "                                                                                                  \n",
      " conv2d_81 (Conv2D)             (None, 4, 4, 384)    1548288     ['activation_80[0][0]']          \n",
      "                                                                                                  \n",
      " batch_normalization_77 (BatchN  (None, 4, 4, 384)   1152        ['conv2d_77[0][0]']              \n",
      " ormalization)                                                                                    \n",
      "                                                                                                  \n",
      " batch_normalization_81 (BatchN  (None, 4, 4, 384)   1152        ['conv2d_81[0][0]']              \n",
      " ormalization)                                                                                    \n",
      "                                                                                                  \n",
      " activation_77 (Activation)     (None, 4, 4, 384)    0           ['batch_normalization_77[0][0]'] \n",
      "                                                                                                  \n",
      " activation_81 (Activation)     (None, 4, 4, 384)    0           ['batch_normalization_81[0][0]'] \n",
      "                                                                                                  \n",
      " conv2d_78 (Conv2D)             (None, 4, 4, 384)    442368      ['activation_77[0][0]']          \n",
      "                                                                                                  \n",
      " conv2d_79 (Conv2D)             (None, 4, 4, 384)    442368      ['activation_77[0][0]']          \n",
      "                                                                                                  \n",
      " conv2d_82 (Conv2D)             (None, 4, 4, 384)    442368      ['activation_81[0][0]']          \n",
      "                                                                                                  \n",
      " conv2d_83 (Conv2D)             (None, 4, 4, 384)    442368      ['activation_81[0][0]']          \n",
      "                                                                                                  \n",
      " average_pooling2d_7 (AveragePo  (None, 4, 4, 1280)  0           ['mixed8[0][0]']                 \n",
      " oling2D)                                                                                         \n",
      "                                                                                                  \n",
      " conv2d_76 (Conv2D)             (None, 4, 4, 320)    409600      ['mixed8[0][0]']                 \n",
      "                                                                                                  \n",
      " batch_normalization_78 (BatchN  (None, 4, 4, 384)   1152        ['conv2d_78[0][0]']              \n",
      " ormalization)                                                                                    \n",
      "                                                                                                  \n",
      " batch_normalization_79 (BatchN  (None, 4, 4, 384)   1152        ['conv2d_79[0][0]']              \n",
      " ormalization)                                                                                    \n",
      "                                                                                                  \n",
      " batch_normalization_82 (BatchN  (None, 4, 4, 384)   1152        ['conv2d_82[0][0]']              \n",
      " ormalization)                                                                                    \n",
      "                                                                                                  \n",
      " batch_normalization_83 (BatchN  (None, 4, 4, 384)   1152        ['conv2d_83[0][0]']              \n",
      " ormalization)                                                                                    \n",
      "                                                                                                  \n",
      " conv2d_84 (Conv2D)             (None, 4, 4, 192)    245760      ['average_pooling2d_7[0][0]']    \n",
      "                                                                                                  \n",
      " batch_normalization_76 (BatchN  (None, 4, 4, 320)   960         ['conv2d_76[0][0]']              \n",
      " ormalization)                                                                                    \n",
      "                                                                                                  \n",
      " activation_78 (Activation)     (None, 4, 4, 384)    0           ['batch_normalization_78[0][0]'] \n",
      "                                                                                                  \n",
      " activation_79 (Activation)     (None, 4, 4, 384)    0           ['batch_normalization_79[0][0]'] \n"
     ]
    },
    {
     "name": "stdout",
     "output_type": "stream",
     "text": [
      "                                                                                                  \n",
      " activation_82 (Activation)     (None, 4, 4, 384)    0           ['batch_normalization_82[0][0]'] \n",
      "                                                                                                  \n",
      " activation_83 (Activation)     (None, 4, 4, 384)    0           ['batch_normalization_83[0][0]'] \n",
      "                                                                                                  \n",
      " batch_normalization_84 (BatchN  (None, 4, 4, 192)   576         ['conv2d_84[0][0]']              \n",
      " ormalization)                                                                                    \n",
      "                                                                                                  \n",
      " activation_76 (Activation)     (None, 4, 4, 320)    0           ['batch_normalization_76[0][0]'] \n",
      "                                                                                                  \n",
      " mixed9_0 (Concatenate)         (None, 4, 4, 768)    0           ['activation_78[0][0]',          \n",
      "                                                                  'activation_79[0][0]']          \n",
      "                                                                                                  \n",
      " concatenate (Concatenate)      (None, 4, 4, 768)    0           ['activation_82[0][0]',          \n",
      "                                                                  'activation_83[0][0]']          \n",
      "                                                                                                  \n",
      " activation_84 (Activation)     (None, 4, 4, 192)    0           ['batch_normalization_84[0][0]'] \n",
      "                                                                                                  \n",
      " mixed9 (Concatenate)           (None, 4, 4, 2048)   0           ['activation_76[0][0]',          \n",
      "                                                                  'mixed9_0[0][0]',               \n",
      "                                                                  'concatenate[0][0]',            \n",
      "                                                                  'activation_84[0][0]']          \n",
      "                                                                                                  \n",
      " conv2d_89 (Conv2D)             (None, 4, 4, 448)    917504      ['mixed9[0][0]']                 \n",
      "                                                                                                  \n",
      " batch_normalization_89 (BatchN  (None, 4, 4, 448)   1344        ['conv2d_89[0][0]']              \n",
      " ormalization)                                                                                    \n",
      "                                                                                                  \n",
      " activation_89 (Activation)     (None, 4, 4, 448)    0           ['batch_normalization_89[0][0]'] \n",
      "                                                                                                  \n",
      " conv2d_86 (Conv2D)             (None, 4, 4, 384)    786432      ['mixed9[0][0]']                 \n",
      "                                                                                                  \n",
      " conv2d_90 (Conv2D)             (None, 4, 4, 384)    1548288     ['activation_89[0][0]']          \n",
      "                                                                                                  \n",
      " batch_normalization_86 (BatchN  (None, 4, 4, 384)   1152        ['conv2d_86[0][0]']              \n",
      " ormalization)                                                                                    \n",
      "                                                                                                  \n",
      " batch_normalization_90 (BatchN  (None, 4, 4, 384)   1152        ['conv2d_90[0][0]']              \n",
      " ormalization)                                                                                    \n",
      "                                                                                                  \n",
      " activation_86 (Activation)     (None, 4, 4, 384)    0           ['batch_normalization_86[0][0]'] \n",
      "                                                                                                  \n",
      " activation_90 (Activation)     (None, 4, 4, 384)    0           ['batch_normalization_90[0][0]'] \n",
      "                                                                                                  \n",
      " conv2d_87 (Conv2D)             (None, 4, 4, 384)    442368      ['activation_86[0][0]']          \n",
      "                                                                                                  \n",
      " conv2d_88 (Conv2D)             (None, 4, 4, 384)    442368      ['activation_86[0][0]']          \n",
      "                                                                                                  \n",
      " conv2d_91 (Conv2D)             (None, 4, 4, 384)    442368      ['activation_90[0][0]']          \n",
      "                                                                                                  \n",
      " conv2d_92 (Conv2D)             (None, 4, 4, 384)    442368      ['activation_90[0][0]']          \n",
      "                                                                                                  \n",
      " average_pooling2d_8 (AveragePo  (None, 4, 4, 2048)  0           ['mixed9[0][0]']                 \n",
      " oling2D)                                                                                         \n",
      "                                                                                                  \n",
      " conv2d_85 (Conv2D)             (None, 4, 4, 320)    655360      ['mixed9[0][0]']                 \n",
      "                                                                                                  \n",
      " batch_normalization_87 (BatchN  (None, 4, 4, 384)   1152        ['conv2d_87[0][0]']              \n",
      " ormalization)                                                                                    \n",
      "                                                                                                  \n",
      " batch_normalization_88 (BatchN  (None, 4, 4, 384)   1152        ['conv2d_88[0][0]']              \n",
      " ormalization)                                                                                    \n",
      "                                                                                                  \n",
      " batch_normalization_91 (BatchN  (None, 4, 4, 384)   1152        ['conv2d_91[0][0]']              \n",
      " ormalization)                                                                                    \n",
      "                                                                                                  \n",
      " batch_normalization_92 (BatchN  (None, 4, 4, 384)   1152        ['conv2d_92[0][0]']              \n",
      " ormalization)                                                                                    \n",
      "                                                                                                  \n",
      " conv2d_93 (Conv2D)             (None, 4, 4, 192)    393216      ['average_pooling2d_8[0][0]']    \n",
      "                                                                                                  \n",
      " batch_normalization_85 (BatchN  (None, 4, 4, 320)   960         ['conv2d_85[0][0]']              \n",
      " ormalization)                                                                                    \n",
      "                                                                                                  \n",
      " activation_87 (Activation)     (None, 4, 4, 384)    0           ['batch_normalization_87[0][0]'] \n",
      "                                                                                                  \n",
      " activation_88 (Activation)     (None, 4, 4, 384)    0           ['batch_normalization_88[0][0]'] \n",
      "                                                                                                  \n",
      " activation_91 (Activation)     (None, 4, 4, 384)    0           ['batch_normalization_91[0][0]'] \n",
      "                                                                                                  \n",
      " activation_92 (Activation)     (None, 4, 4, 384)    0           ['batch_normalization_92[0][0]'] \n",
      "                                                                                                  \n",
      " batch_normalization_93 (BatchN  (None, 4, 4, 192)   576         ['conv2d_93[0][0]']              \n"
     ]
    },
    {
     "name": "stdout",
     "output_type": "stream",
     "text": [
      " ormalization)                                                                                    \n",
      "                                                                                                  \n",
      " activation_85 (Activation)     (None, 4, 4, 320)    0           ['batch_normalization_85[0][0]'] \n",
      "                                                                                                  \n",
      " mixed9_1 (Concatenate)         (None, 4, 4, 768)    0           ['activation_87[0][0]',          \n",
      "                                                                  'activation_88[0][0]']          \n",
      "                                                                                                  \n",
      " concatenate_1 (Concatenate)    (None, 4, 4, 768)    0           ['activation_91[0][0]',          \n",
      "                                                                  'activation_92[0][0]']          \n",
      "                                                                                                  \n",
      " activation_93 (Activation)     (None, 4, 4, 192)    0           ['batch_normalization_93[0][0]'] \n",
      "                                                                                                  \n",
      " mixed10 (Concatenate)          (None, 4, 4, 2048)   0           ['activation_85[0][0]',          \n",
      "                                                                  'mixed9_1[0][0]',               \n",
      "                                                                  'concatenate_1[0][0]',          \n",
      "                                                                  'activation_93[0][0]']          \n",
      "                                                                                                  \n",
      "==================================================================================================\n",
      "Total params: 21,802,784\n",
      "Trainable params: 21,768,352\n",
      "Non-trainable params: 34,432\n",
      "__________________________________________________________________________________________________\n"
     ]
    }
   ],
   "source": [
    "WEIGHTS_FILE = './inception_v3_weights_tf_dim_ordering_tf_kernels_notop.h5'\n",
    "\n",
    "inception_v3_model = keras.applications.inception_v3.InceptionV3(\n",
    "    input_shape = (200, 200, 3), \n",
    "    include_top = False, \n",
    "    weights = 'imagenet'\n",
    ")\n",
    "\n",
    "inception_v3_model.summary()"
   ]
  },
  {
   "cell_type": "code",
   "execution_count": 7,
   "id": "a556e82d",
   "metadata": {},
   "outputs": [
    {
     "name": "stdout",
     "output_type": "stream",
     "text": [
      "Inception model output shape: (None, 10, 10, 768)\n"
     ]
    }
   ],
   "source": [
    "inception_output_layer = inception_v3_model.get_layer('mixed7')\n",
    "print('Inception model output shape:', inception_output_layer.output_shape)\n",
    "\n",
    "inception_output = inception_v3_model.output"
   ]
  },
  {
   "cell_type": "code",
   "execution_count": 8,
   "id": "750baf1a",
   "metadata": {},
   "outputs": [
    {
     "name": "stderr",
     "output_type": "stream",
     "text": [
      "WARNING:absl:`lr` is deprecated, please use `learning_rate` instead, or use the legacy optimizer, e.g.,tf.keras.optimizers.legacy.SGD.\n"
     ]
    }
   ],
   "source": [
    "from tensorflow.keras import layers\n",
    "x = layers.GlobalAveragePooling2D()(inception_output)\n",
    "x = layers.Dense(1024, activation='relu')(x)                  \n",
    "x = layers.Dense(35, activation='softmax')(x)           \n",
    "\n",
    "model = Model(inception_v3_model.input, x) \n",
    "\n",
    "model.compile(\n",
    "    optimizer=SGD(lr=0.0001, momentum=0.9),\n",
    "    loss='categorical_crossentropy',\n",
    "    metrics=['acc']\n",
    ")\n",
    "for layer in model.layers[:249]:\n",
    "    layer.trainable = False\n",
    "for layer in model.layers[249:]:\n",
    "    layer.trainable = True"
   ]
  },
  {
   "cell_type": "code",
   "execution_count": 9,
   "id": "d368225f",
   "metadata": {},
   "outputs": [],
   "source": [
    "LOSS_THRESHOLD = 0.2\n",
    "ACCURACY_THRESHOLD = 0.979\n",
    "\n",
    "class ModelCallback(tf.keras.callbacks.Callback):\n",
    "  def on_epoch_end(self, epoch, logs={}):\n",
    "    if logs.get('val_loss') <= LOSS_THRESHOLD and logs.get('val_acc') >= ACCURACY_THRESHOLD:\n",
    "      print(\"\\nReached\", ACCURACY_THRESHOLD * 100, \"accuracy, Stopping!\")\n",
    "      self.model.stop_training = True\n",
    "\n",
    "callback = ModelCallback()"
   ]
  },
  {
   "cell_type": "code",
   "execution_count": 10,
   "id": "1897b8c3",
   "metadata": {
    "scrolled": true
   },
   "outputs": [
    {
     "name": "stderr",
     "output_type": "stream",
     "text": [
      "C:\\Users\\91926\\AppData\\Local\\Temp\\ipykernel_3916\\3258626001.py:1: UserWarning: `Model.fit_generator` is deprecated and will be removed in a future version. Please use `Model.fit`, which supports generators.\n",
      "  history = model.fit_generator(\n"
     ]
    },
    {
     "name": "stdout",
     "output_type": "stream",
     "text": [
      "Epoch 1/50\n",
      "200/200 [==============================] - ETA: 0s - loss: 0.1417 - acc: 0.9747 \n",
      "Reached 97.89999999999999 accuracy, Stopping!\n",
      "200/200 [==============================] - 3140s 16s/step - loss: 0.1417 - acc: 0.9747 - val_loss: 1.0753e-04 - val_acc: 1.0000\n"
     ]
    }
   ],
   "source": [
    "history = model.fit_generator(\n",
    "    train_generator,\n",
    "    validation_data=validation_generator,\n",
    "    steps_per_epoch=200,\n",
    "    validation_steps=50,\n",
    "    epochs=50,\n",
    "    callbacks=[callback]\n",
    ")"
   ]
  },
  {
   "cell_type": "code",
   "execution_count": 11,
   "id": "fd5e4654",
   "metadata": {},
   "outputs": [],
   "source": [
    "model.save('transferlearning2.h5')"
   ]
  },
  {
   "cell_type": "code",
   "execution_count": 13,
   "id": "db9c4c5c",
   "metadata": {},
   "outputs": [
    {
     "name": "stdout",
     "output_type": "stream",
     "text": [
      "66/66 [==============================] - 117s 2s/step\n"
     ]
    }
   ],
   "source": [
    "predictions = model.predict(validation_generator) # Make predictions towards the test set"
   ]
  },
  {
   "cell_type": "code",
   "execution_count": 15,
   "id": "68a5ca5c",
   "metadata": {},
   "outputs": [],
   "source": [
    "predict = pd.DataFrame(predictions)"
   ]
  },
  {
   "cell_type": "code",
   "execution_count": 18,
   "id": "99f57851",
   "metadata": {},
   "outputs": [
    {
     "data": {
      "text/html": [
       "<div>\n",
       "<style scoped>\n",
       "    .dataframe tbody tr th:only-of-type {\n",
       "        vertical-align: middle;\n",
       "    }\n",
       "\n",
       "    .dataframe tbody tr th {\n",
       "        vertical-align: top;\n",
       "    }\n",
       "\n",
       "    .dataframe thead th {\n",
       "        text-align: right;\n",
       "    }\n",
       "</style>\n",
       "<table border=\"1\" class=\"dataframe\">\n",
       "  <thead>\n",
       "    <tr style=\"text-align: right;\">\n",
       "      <th></th>\n",
       "      <th>0</th>\n",
       "      <th>1</th>\n",
       "      <th>2</th>\n",
       "      <th>3</th>\n",
       "      <th>4</th>\n",
       "      <th>5</th>\n",
       "      <th>6</th>\n",
       "      <th>7</th>\n",
       "      <th>8</th>\n",
       "      <th>9</th>\n",
       "      <th>...</th>\n",
       "      <th>25</th>\n",
       "      <th>26</th>\n",
       "      <th>27</th>\n",
       "      <th>28</th>\n",
       "      <th>29</th>\n",
       "      <th>30</th>\n",
       "      <th>31</th>\n",
       "      <th>32</th>\n",
       "      <th>33</th>\n",
       "      <th>34</th>\n",
       "    </tr>\n",
       "  </thead>\n",
       "  <tbody>\n",
       "    <tr>\n",
       "      <th>count</th>\n",
       "      <td>4.200000e+03</td>\n",
       "      <td>4.200000e+03</td>\n",
       "      <td>4.200000e+03</td>\n",
       "      <td>4.200000e+03</td>\n",
       "      <td>4.200000e+03</td>\n",
       "      <td>4.200000e+03</td>\n",
       "      <td>4.200000e+03</td>\n",
       "      <td>4.200000e+03</td>\n",
       "      <td>4.200000e+03</td>\n",
       "      <td>4.200000e+03</td>\n",
       "      <td>...</td>\n",
       "      <td>4.200000e+03</td>\n",
       "      <td>4.200000e+03</td>\n",
       "      <td>4.200000e+03</td>\n",
       "      <td>4.200000e+03</td>\n",
       "      <td>4.200000e+03</td>\n",
       "      <td>4.200000e+03</td>\n",
       "      <td>4.200000e+03</td>\n",
       "      <td>4.200000e+03</td>\n",
       "      <td>4.200000e+03</td>\n",
       "      <td>4.200000e+03</td>\n",
       "    </tr>\n",
       "    <tr>\n",
       "      <th>mean</th>\n",
       "      <td>2.857045e-02</td>\n",
       "      <td>2.857205e-02</td>\n",
       "      <td>2.856976e-02</td>\n",
       "      <td>2.857023e-02</td>\n",
       "      <td>2.856960e-02</td>\n",
       "      <td>2.857922e-02</td>\n",
       "      <td>2.857131e-02</td>\n",
       "      <td>2.857372e-02</td>\n",
       "      <td>2.857037e-02</td>\n",
       "      <td>2.857309e-02</td>\n",
       "      <td>...</td>\n",
       "      <td>2.857083e-02</td>\n",
       "      <td>2.857354e-02</td>\n",
       "      <td>2.856913e-02</td>\n",
       "      <td>2.857063e-02</td>\n",
       "      <td>2.856915e-02</td>\n",
       "      <td>2.856559e-02</td>\n",
       "      <td>2.856348e-02</td>\n",
       "      <td>2.857301e-02</td>\n",
       "      <td>2.857411e-02</td>\n",
       "      <td>2.856933e-02</td>\n",
       "    </tr>\n",
       "    <tr>\n",
       "      <th>std</th>\n",
       "      <td>1.666045e-01</td>\n",
       "      <td>1.665972e-01</td>\n",
       "      <td>1.665992e-01</td>\n",
       "      <td>1.666098e-01</td>\n",
       "      <td>1.665978e-01</td>\n",
       "      <td>1.666140e-01</td>\n",
       "      <td>1.666088e-01</td>\n",
       "      <td>1.666112e-01</td>\n",
       "      <td>1.665922e-01</td>\n",
       "      <td>1.666147e-01</td>\n",
       "      <td>...</td>\n",
       "      <td>1.665919e-01</td>\n",
       "      <td>1.666134e-01</td>\n",
       "      <td>1.665901e-01</td>\n",
       "      <td>1.665958e-01</td>\n",
       "      <td>1.665945e-01</td>\n",
       "      <td>1.665734e-01</td>\n",
       "      <td>1.665606e-01</td>\n",
       "      <td>1.666123e-01</td>\n",
       "      <td>1.666102e-01</td>\n",
       "      <td>1.665921e-01</td>\n",
       "    </tr>\n",
       "    <tr>\n",
       "      <th>min</th>\n",
       "      <td>6.744629e-10</td>\n",
       "      <td>1.511941e-09</td>\n",
       "      <td>1.281752e-09</td>\n",
       "      <td>1.561222e-09</td>\n",
       "      <td>3.577541e-09</td>\n",
       "      <td>6.962882e-09</td>\n",
       "      <td>7.611216e-10</td>\n",
       "      <td>1.140360e-08</td>\n",
       "      <td>1.400569e-08</td>\n",
       "      <td>4.652179e-09</td>\n",
       "      <td>...</td>\n",
       "      <td>7.767169e-09</td>\n",
       "      <td>7.523219e-09</td>\n",
       "      <td>2.804132e-09</td>\n",
       "      <td>2.333079e-09</td>\n",
       "      <td>7.618191e-09</td>\n",
       "      <td>3.050499e-09</td>\n",
       "      <td>4.976264e-09</td>\n",
       "      <td>5.035398e-09</td>\n",
       "      <td>1.595117e-08</td>\n",
       "      <td>3.009198e-09</td>\n",
       "    </tr>\n",
       "    <tr>\n",
       "      <th>25%</th>\n",
       "      <td>1.227350e-07</td>\n",
       "      <td>4.049882e-07</td>\n",
       "      <td>1.077958e-07</td>\n",
       "      <td>1.018503e-07</td>\n",
       "      <td>2.241155e-07</td>\n",
       "      <td>1.090913e-06</td>\n",
       "      <td>3.204141e-07</td>\n",
       "      <td>2.949745e-07</td>\n",
       "      <td>7.546477e-07</td>\n",
       "      <td>3.067657e-07</td>\n",
       "      <td>...</td>\n",
       "      <td>3.725144e-07</td>\n",
       "      <td>5.443834e-07</td>\n",
       "      <td>7.469876e-07</td>\n",
       "      <td>5.470026e-07</td>\n",
       "      <td>4.131412e-07</td>\n",
       "      <td>3.338797e-07</td>\n",
       "      <td>3.433978e-07</td>\n",
       "      <td>3.441430e-07</td>\n",
       "      <td>7.051843e-07</td>\n",
       "      <td>3.283949e-07</td>\n",
       "    </tr>\n",
       "    <tr>\n",
       "      <th>50%</th>\n",
       "      <td>4.955746e-07</td>\n",
       "      <td>1.059912e-06</td>\n",
       "      <td>3.589767e-07</td>\n",
       "      <td>3.638034e-07</td>\n",
       "      <td>7.001920e-07</td>\n",
       "      <td>3.461722e-06</td>\n",
       "      <td>8.888100e-07</td>\n",
       "      <td>1.124219e-06</td>\n",
       "      <td>1.783201e-06</td>\n",
       "      <td>8.518985e-07</td>\n",
       "      <td>...</td>\n",
       "      <td>1.160052e-06</td>\n",
       "      <td>1.328658e-06</td>\n",
       "      <td>1.773492e-06</td>\n",
       "      <td>1.591389e-06</td>\n",
       "      <td>9.665144e-07</td>\n",
       "      <td>8.447861e-07</td>\n",
       "      <td>9.187012e-07</td>\n",
       "      <td>8.857415e-07</td>\n",
       "      <td>1.956383e-06</td>\n",
       "      <td>8.595350e-07</td>\n",
       "    </tr>\n",
       "    <tr>\n",
       "      <th>75%</th>\n",
       "      <td>1.898658e-06</td>\n",
       "      <td>2.908715e-06</td>\n",
       "      <td>2.062634e-06</td>\n",
       "      <td>1.046575e-06</td>\n",
       "      <td>2.243562e-06</td>\n",
       "      <td>1.087481e-05</td>\n",
       "      <td>2.521116e-06</td>\n",
       "      <td>2.983980e-06</td>\n",
       "      <td>5.231679e-06</td>\n",
       "      <td>2.505184e-06</td>\n",
       "      <td>...</td>\n",
       "      <td>4.554769e-06</td>\n",
       "      <td>3.931242e-06</td>\n",
       "      <td>3.783773e-06</td>\n",
       "      <td>4.318021e-06</td>\n",
       "      <td>2.584767e-06</td>\n",
       "      <td>2.638244e-06</td>\n",
       "      <td>2.782145e-06</td>\n",
       "      <td>2.635270e-06</td>\n",
       "      <td>6.040759e-06</td>\n",
       "      <td>2.742123e-06</td>\n",
       "    </tr>\n",
       "    <tr>\n",
       "      <th>max</th>\n",
       "      <td>9.999763e-01</td>\n",
       "      <td>9.999810e-01</td>\n",
       "      <td>9.999856e-01</td>\n",
       "      <td>9.999892e-01</td>\n",
       "      <td>9.999524e-01</td>\n",
       "      <td>9.999964e-01</td>\n",
       "      <td>9.999850e-01</td>\n",
       "      <td>9.999861e-01</td>\n",
       "      <td>9.999875e-01</td>\n",
       "      <td>9.999939e-01</td>\n",
       "      <td>...</td>\n",
       "      <td>9.999461e-01</td>\n",
       "      <td>9.999915e-01</td>\n",
       "      <td>9.999845e-01</td>\n",
       "      <td>9.999650e-01</td>\n",
       "      <td>9.999572e-01</td>\n",
       "      <td>9.999523e-01</td>\n",
       "      <td>9.998773e-01</td>\n",
       "      <td>9.999890e-01</td>\n",
       "      <td>9.999948e-01</td>\n",
       "      <td>9.999763e-01</td>\n",
       "    </tr>\n",
       "  </tbody>\n",
       "</table>\n",
       "<p>8 rows × 35 columns</p>\n",
       "</div>"
      ],
      "text/plain": [
       "                 0             1             2             3             4   \\\n",
       "count  4.200000e+03  4.200000e+03  4.200000e+03  4.200000e+03  4.200000e+03   \n",
       "mean   2.857045e-02  2.857205e-02  2.856976e-02  2.857023e-02  2.856960e-02   \n",
       "std    1.666045e-01  1.665972e-01  1.665992e-01  1.666098e-01  1.665978e-01   \n",
       "min    6.744629e-10  1.511941e-09  1.281752e-09  1.561222e-09  3.577541e-09   \n",
       "25%    1.227350e-07  4.049882e-07  1.077958e-07  1.018503e-07  2.241155e-07   \n",
       "50%    4.955746e-07  1.059912e-06  3.589767e-07  3.638034e-07  7.001920e-07   \n",
       "75%    1.898658e-06  2.908715e-06  2.062634e-06  1.046575e-06  2.243562e-06   \n",
       "max    9.999763e-01  9.999810e-01  9.999856e-01  9.999892e-01  9.999524e-01   \n",
       "\n",
       "                 5             6             7             8             9   \\\n",
       "count  4.200000e+03  4.200000e+03  4.200000e+03  4.200000e+03  4.200000e+03   \n",
       "mean   2.857922e-02  2.857131e-02  2.857372e-02  2.857037e-02  2.857309e-02   \n",
       "std    1.666140e-01  1.666088e-01  1.666112e-01  1.665922e-01  1.666147e-01   \n",
       "min    6.962882e-09  7.611216e-10  1.140360e-08  1.400569e-08  4.652179e-09   \n",
       "25%    1.090913e-06  3.204141e-07  2.949745e-07  7.546477e-07  3.067657e-07   \n",
       "50%    3.461722e-06  8.888100e-07  1.124219e-06  1.783201e-06  8.518985e-07   \n",
       "75%    1.087481e-05  2.521116e-06  2.983980e-06  5.231679e-06  2.505184e-06   \n",
       "max    9.999964e-01  9.999850e-01  9.999861e-01  9.999875e-01  9.999939e-01   \n",
       "\n",
       "       ...            25            26            27            28  \\\n",
       "count  ...  4.200000e+03  4.200000e+03  4.200000e+03  4.200000e+03   \n",
       "mean   ...  2.857083e-02  2.857354e-02  2.856913e-02  2.857063e-02   \n",
       "std    ...  1.665919e-01  1.666134e-01  1.665901e-01  1.665958e-01   \n",
       "min    ...  7.767169e-09  7.523219e-09  2.804132e-09  2.333079e-09   \n",
       "25%    ...  3.725144e-07  5.443834e-07  7.469876e-07  5.470026e-07   \n",
       "50%    ...  1.160052e-06  1.328658e-06  1.773492e-06  1.591389e-06   \n",
       "75%    ...  4.554769e-06  3.931242e-06  3.783773e-06  4.318021e-06   \n",
       "max    ...  9.999461e-01  9.999915e-01  9.999845e-01  9.999650e-01   \n",
       "\n",
       "                 29            30            31            32            33  \\\n",
       "count  4.200000e+03  4.200000e+03  4.200000e+03  4.200000e+03  4.200000e+03   \n",
       "mean   2.856915e-02  2.856559e-02  2.856348e-02  2.857301e-02  2.857411e-02   \n",
       "std    1.665945e-01  1.665734e-01  1.665606e-01  1.666123e-01  1.666102e-01   \n",
       "min    7.618191e-09  3.050499e-09  4.976264e-09  5.035398e-09  1.595117e-08   \n",
       "25%    4.131412e-07  3.338797e-07  3.433978e-07  3.441430e-07  7.051843e-07   \n",
       "50%    9.665144e-07  8.447861e-07  9.187012e-07  8.857415e-07  1.956383e-06   \n",
       "75%    2.584767e-06  2.638244e-06  2.782145e-06  2.635270e-06  6.040759e-06   \n",
       "max    9.999572e-01  9.999523e-01  9.998773e-01  9.999890e-01  9.999948e-01   \n",
       "\n",
       "                 34  \n",
       "count  4.200000e+03  \n",
       "mean   2.856933e-02  \n",
       "std    1.665921e-01  \n",
       "min    3.009198e-09  \n",
       "25%    3.283949e-07  \n",
       "50%    8.595350e-07  \n",
       "75%    2.742123e-06  \n",
       "max    9.999763e-01  \n",
       "\n",
       "[8 rows x 35 columns]"
      ]
     },
     "execution_count": 18,
     "metadata": {},
     "output_type": "execute_result"
    }
   ],
   "source": [
    "predict.describe()"
   ]
  },
  {
   "cell_type": "code",
   "execution_count": 13,
   "id": "1179bb53",
   "metadata": {
    "scrolled": true
   },
   "outputs": [
    {
     "data": {
      "text/plain": [
       "<keras.callbacks.History at 0x1e3fd350520>"
      ]
     },
     "execution_count": 13,
     "metadata": {},
     "output_type": "execute_result"
    }
   ],
   "source": [
    "history"
   ]
  },
  {
   "cell_type": "code",
   "execution_count": 14,
   "id": "3c342418",
   "metadata": {},
   "outputs": [
    {
     "data": {
      "text/plain": [
       "<keras.engine.functional.Functional at 0x1e3fd22c2e0>"
      ]
     },
     "execution_count": 14,
     "metadata": {},
     "output_type": "execute_result"
    }
   ],
   "source": [
    "model"
   ]
  },
  {
   "cell_type": "code",
   "execution_count": 15,
   "id": "444972e5",
   "metadata": {},
   "outputs": [
    {
     "data": {
      "image/png": "[encoded data removed]",
      "text/plain": [
       "<Figure size 432x288 with 1 Axes>"
      ]
     },
     "metadata": {},
     "output_type": "display_data"
    },
    {
     "data": {
      "text/plain": [
       "<Figure size 432x288 with 0 Axes>"
      ]
     },
     "metadata": {},
     "output_type": "display_data"
    }
   ],
   "source": [
    "acc = history.history['acc']\n",
    "val_acc = history.history['val_acc']\n",
    "loss = history.history['loss']\n",
    "val_loss = history.history['val_loss']\n",
    "\n",
    "epochs = range(len(acc))\n",
    "\n",
    "plt.plot(epochs, acc, 'r', label='Training accuracy')\n",
    "plt.plot(epochs, val_acc, 'b', label='Validation accuracy')\n",
    "plt.title('Training and validation accuracy')\n",
    "plt.legend(loc=0)\n",
    "plt.figure()\n",
    "\n",
    "\n",
    "\n",
    "plt.show()\n"
   ]
  },
  {
   "cell_type": "code",
   "execution_count": 16,
   "id": "00480169",
   "metadata": {
    "scrolled": true
   },
   "outputs": [
    {
     "data": {
      "text/plain": [
       "<Figure size 432x288 with 0 Axes>"
      ]
     },
     "execution_count": 16,
     "metadata": {},
     "output_type": "execute_result"
    },
    {
     "data": {
      "image/png": "[encoded data removed]",
      "text/plain": [
       "<Figure size 432x288 with 1 Axes>"
      ]
     },
     "metadata": {},
     "output_type": "display_data"
    },
    {
     "data": {
      "text/plain": [
       "<Figure size 432x288 with 0 Axes>"
      ]
     },
     "metadata": {},
     "output_type": "display_data"
    }
   ],
   "source": [
    "plt.plot(epochs, loss, 'r', label='Training loss')\n",
    "plt.plot(epochs, val_loss, 'b', label='Validationloss')\n",
    "plt.title('Training and validation loss')\n",
    "plt.legend(loc=0)\n",
    "plt.figure()"
   ]
  },
  {
   "cell_type": "code",
   "execution_count": 174,
   "id": "4e534c78",
   "metadata": {},
   "outputs": [],
   "source": [
    "df = pd.DataFrame(model(xtest))"
   ]
  },
  {
   "cell_type": "code",
   "execution_count": 175,
   "id": "3255289b",
   "metadata": {},
   "outputs": [],
   "source": [
    "df.to_csv('data.csv',index=False)"
   ]
  },
  {
   "cell_type": "code",
   "execution_count": 64,
   "id": "c69fe2ca",
   "metadata": {},
   "outputs": [],
   "source": [
    "import numpy as np\n",
    "import pandas as pd\n",
    "import matplotlib.pyplot as plt\n",
    "from sklearn.model_selection import train_test_split\n",
    "from sklearn.ensemble import RandomForestClassifier\n",
    "from sklearn.metrics import classification_report\n",
    "%matplotlib inline\n",
    "import pathlib\n",
    "import imageio\n"
   ]
  },
  {
   "cell_type": "code",
   "execution_count": 129,
   "id": "63e802e3",
   "metadata": {},
   "outputs": [],
   "source": [
    "import os\n",
    "\n",
    "loc1 = './indian-sign-language-dataset/data/1'\n",
    "loc2 = './indian-sign-language-dataset/data/2'\n",
    "loc3 = './indian-sign-language-dataset/data/3'\n",
    "loc4 = './indian-sign-language-dataset/data/4'\n",
    "loc5 = './indian-sign-language-dataset/data/5'\n",
    "loc6 = './indian-sign-language-dataset/data/6'\n",
    "loc7 = './indian-sign-language-dataset/data/7'\n",
    "loc8 = './indian-sign-language-dataset/data/8'\n",
    "loc9 = './indian-sign-language-dataset/data/9'\n",
    "locA = './indian-sign-language-dataset/data/A'\n",
    "locB = './indian-sign-language-dataset/data/B'\n",
    "locC = './indian-sign-language-dataset/data/C'\n",
    "locD = './indian-sign-language-dataset/data/D'\n",
    "locE = './indian-sign-language-dataset/data/E'\n",
    "locF = './indian-sign-language-dataset/data/F'\n",
    "locG = './indian-sign-language-dataset/data/G'\n",
    "locH = './indian-sign-language-dataset/data/H'\n",
    "locI = './indian-sign-language-dataset/data/I'\n",
    "locJ = './indian-sign-language-dataset/data/J'\n",
    "locK = './indian-sign-language-dataset/data/K'\n",
    "locL = './indian-sign-language-dataset/data/L'\n",
    "locM = './indian-sign-language-dataset/data/M'\n",
    "locN = './indian-sign-language-dataset/data/N'\n",
    "locO = './indian-sign-language-dataset/data/O'\n",
    "locP = './indian-sign-language-dataset/data/P'\n",
    "locQ = './indian-sign-language-dataset/data/Q'\n",
    "locR = './indian-sign-language-dataset/data/R'\n",
    "locS = './indian-sign-language-dataset/data/S'\n",
    "locT = './indian-sign-language-dataset/data/T'\n",
    "locU = './indian-sign-language-dataset/data/U'\n",
    "locV = './indian-sign-language-dataset/data/V'\n",
    "locW = './indian-sign-language-dataset/data/W'\n",
    "locX = './indian-sign-language-dataset/data/X'\n",
    "locY = './indian-sign-language-dataset/data/Y'\n",
    "locZ = './indian-sign-language-dataset/data/Z'"
   ]
  },
  {
   "cell_type": "code",
   "execution_count": 130,
   "id": "82a6dafa",
   "metadata": {},
   "outputs": [
    {
     "name": "stderr",
     "output_type": "stream",
     "text": [
      "100%|█████████████████████████████████████████████████████████████████████████████| 1200/1200 [00:01<00:00, 815.96it/s]\n",
      "100%|█████████████████████████████████████████████████████████████████████████████| 1200/1200 [00:01<00:00, 886.54it/s]\n",
      "100%|█████████████████████████████████████████████████████████████████████████████| 1200/1200 [00:01<00:00, 899.32it/s]\n",
      "100%|████████████████████████████████████████████████████████████████████████████| 1200/1200 [00:01<00:00, 1030.88it/s]\n",
      "100%|████████████████████████████████████████████████████████████████████████████| 1200/1200 [00:01<00:00, 1035.96it/s]\n",
      "100%|████████████████████████████████████████████████████████████████████████████| 1200/1200 [00:01<00:00, 1070.29it/s]\n",
      "100%|████████████████████████████████████████████████████████████████████████████| 1200/1200 [00:01<00:00, 1121.42it/s]\n",
      "100%|████████████████████████████████████████████████████████████████████████████| 1200/1200 [00:01<00:00, 1157.28it/s]\n",
      "100%|████████████████████████████████████████████████████████████████████████████| 1200/1200 [00:01<00:00, 1054.69it/s]\n",
      "100%|█████████████████████████████████████████████████████████████████████████████| 1200/1200 [00:01<00:00, 838.58it/s]\n",
      "100%|█████████████████████████████████████████████████████████████████████████████| 1200/1200 [00:01<00:00, 824.07it/s]\n",
      "100%|█████████████████████████████████████████████████████████████████████████████| 1200/1200 [00:01<00:00, 846.30it/s]\n",
      "100%|█████████████████████████████████████████████████████████████████████████████| 1200/1200 [00:01<00:00, 866.86it/s]\n",
      "100%|█████████████████████████████████████████████████████████████████████████████| 1200/1200 [00:01<00:00, 812.43it/s]\n",
      "100%|█████████████████████████████████████████████████████████████████████████████| 1200/1200 [00:01<00:00, 824.04it/s]\n",
      "100%|█████████████████████████████████████████████████████████████████████████████| 1200/1200 [00:01<00:00, 826.39it/s]\n",
      "100%|█████████████████████████████████████████████████████████████████████████████| 1200/1200 [00:01<00:00, 893.41it/s]\n",
      "100%|█████████████████████████████████████████████████████████████████████████████| 1200/1200 [00:01<00:00, 817.04it/s]\n",
      "100%|█████████████████████████████████████████████████████████████████████████████| 1200/1200 [00:01<00:00, 799.82it/s]\n",
      "100%|█████████████████████████████████████████████████████████████████████████████| 1200/1200 [00:01<00:00, 759.54it/s]\n",
      "100%|█████████████████████████████████████████████████████████████████████████████| 1200/1200 [00:01<00:00, 615.99it/s]\n",
      "100%|█████████████████████████████████████████████████████████████████████████████| 1200/1200 [00:02<00:00, 582.80it/s]\n",
      "100%|█████████████████████████████████████████████████████████████████████████████| 1200/1200 [00:02<00:00, 581.86it/s]\n",
      "100%|█████████████████████████████████████████████████████████████████████████████| 1200/1200 [00:01<00:00, 629.28it/s]\n",
      "100%|█████████████████████████████████████████████████████████████████████████████| 1200/1200 [00:02<00:00, 599.99it/s]\n",
      "100%|█████████████████████████████████████████████████████████████████████████████| 1200/1200 [00:02<00:00, 597.44it/s]\n",
      "100%|█████████████████████████████████████████████████████████████████████████████| 1200/1200 [00:02<00:00, 569.35it/s]\n",
      "100%|█████████████████████████████████████████████████████████████████████████████| 1200/1200 [00:02<00:00, 599.18it/s]\n",
      "100%|█████████████████████████████████████████████████████████████████████████████| 1200/1200 [00:01<00:00, 634.38it/s]\n",
      "100%|█████████████████████████████████████████████████████████████████████████████| 1200/1200 [00:01<00:00, 625.75it/s]\n",
      "100%|█████████████████████████████████████████████████████████████████████████████| 1200/1200 [00:01<00:00, 621.88it/s]\n",
      "100%|█████████████████████████████████████████████████████████████████████████████| 1200/1200 [00:02<00:00, 571.82it/s]\n",
      "100%|█████████████████████████████████████████████████████████████████████████████| 1200/1200 [00:01<00:00, 658.10it/s]\n",
      "100%|█████████████████████████████████████████████████████████████████████████████| 1200/1200 [00:01<00:00, 646.22it/s]\n",
      "100%|█████████████████████████████████████████████████████████████████████████████| 1200/1200 [00:01<00:00, 627.95it/s]\n"
     ]
    }
   ],
   "source": [
    "import cv2\n",
    "from tqdm import tqdm\n",
    "\n",
    "features = []\n",
    "\n",
    "for img in tqdm(os.listdir(loc1)):\n",
    "    f = cv2.imread(os.path.join(loc1,img))\n",
    "    f = cv2.cvtColor(f , cv2.COLOR_BGR2GRAY)        #convert colored images into grayscale format\n",
    "    f = cv2.resize(f , (50,50))\n",
    "    features.append(f)\n",
    "    \n",
    "for img in tqdm(os.listdir(loc2)):\n",
    "    f = cv2.imread(os.path.join(loc2,img))\n",
    "    f = cv2.cvtColor(f , cv2.COLOR_BGR2GRAY)\n",
    "    f = cv2.resize(f , (50,50))\n",
    "    features.append(f)\n",
    "    \n",
    "for img in tqdm(os.listdir(loc3)):\n",
    "    f = cv2.imread(os.path.join(loc3,img))\n",
    "    f = cv2.cvtColor(f , cv2.COLOR_BGR2GRAY)\n",
    "    f = cv2.resize(f , (50,50))\n",
    "    features.append(f)\n",
    "    \n",
    "for img in tqdm(os.listdir(loc4)):\n",
    "    f = cv2.imread(os.path.join(loc4,img))\n",
    "    f = cv2.cvtColor(f , cv2.COLOR_BGR2GRAY)\n",
    "    f = cv2.resize(f , (50,50))\n",
    "    features.append(f)\n",
    "    \n",
    "for img in tqdm(os.listdir(loc5)):\n",
    "    f = cv2.imread(os.path.join(loc5,img))\n",
    "    f = cv2.cvtColor(f , cv2.COLOR_BGR2GRAY)        #convert colored images into grayscale format\n",
    "    f = cv2.resize(f , (50,50))\n",
    "    features.append(f)\n",
    "    \n",
    "for img in tqdm(os.listdir(loc6)):\n",
    "    f = cv2.imread(os.path.join(loc6,img))\n",
    "    f = cv2.cvtColor(f , cv2.COLOR_BGR2GRAY)\n",
    "    f = cv2.resize(f , (50,50))\n",
    "    features.append(f)\n",
    "    \n",
    "for img in tqdm(os.listdir(loc7)):\n",
    "    f = cv2.imread(os.path.join(loc7,img))\n",
    "    f = cv2.cvtColor(f , cv2.COLOR_BGR2GRAY)\n",
    "    f = cv2.resize(f , (50,50))\n",
    "    features.append(f)\n",
    "    \n",
    "for img in tqdm(os.listdir(loc8)):\n",
    "    f = cv2.imread(os.path.join(loc8,img))\n",
    "    f = cv2.cvtColor(f , cv2.COLOR_BGR2GRAY)\n",
    "    f = cv2.resize(f , (50,50))\n",
    "    features.append(f)\n",
    "    \n",
    "for img in tqdm(os.listdir(loc9)):\n",
    "    f = cv2.imread(os.path.join(loc9,img))\n",
    "    f = cv2.cvtColor(f , cv2.COLOR_BGR2GRAY)        #convert colored images into grayscale format\n",
    "    f = cv2.resize(f , (50,50))\n",
    "    features.append(f)\n",
    "    \n",
    "for img in tqdm(os.listdir(locA)):\n",
    "    f = cv2.imread(os.path.join(locA,img))\n",
    "    f = cv2.cvtColor(f , cv2.COLOR_BGR2GRAY)        #convert colored images into grayscale format\n",
    "    f = cv2.resize(f , (50,50))\n",
    "    features.append(f)\n",
    "    \n",
    "for img in tqdm(os.listdir(locB)):\n",
    "    f = cv2.imread(os.path.join(locB,img))\n",
    "    f = cv2.cvtColor(f , cv2.COLOR_BGR2GRAY)\n",
    "    f = cv2.resize(f , (50,50))\n",
    "    features.append(f)\n",
    "    \n",
    "for img in tqdm(os.listdir(locC)):\n",
    "    f = cv2.imread(os.path.join(locC,img))\n",
    "    f = cv2.cvtColor(f , cv2.COLOR_BGR2GRAY)\n",
    "    f = cv2.resize(f , (50,50))\n",
    "    features.append(f)\n",
    "    \n",
    "for img in tqdm(os.listdir(locD)):\n",
    "    f = cv2.imread(os.path.join(locD,img))\n",
    "    f = cv2.cvtColor(f , cv2.COLOR_BGR2GRAY)\n",
    "    f = cv2.resize(f , (50,50))\n",
    "    features.append(f)\n",
    "    \n",
    "for img in tqdm(os.listdir(locE)):\n",
    "    f = cv2.imread(os.path.join(locE,img))\n",
    "    f = cv2.cvtColor(f , cv2.COLOR_BGR2GRAY)        #convert colored images into grayscale format\n",
    "    f = cv2.resize(f , (50,50))\n",
    "    features.append(f)\n",
    "    \n",
    "for img in tqdm(os.listdir(locF)):\n",
    "    f = cv2.imread(os.path.join(locF,img))\n",
    "    f = cv2.cvtColor(f , cv2.COLOR_BGR2GRAY)\n",
    "    f = cv2.resize(f , (50,50))\n",
    "    features.append(f)\n",
    "    \n",
    "for img in tqdm(os.listdir(locG)):\n",
    "    f = cv2.imread(os.path.join(locG,img))\n",
    "    f = cv2.cvtColor(f , cv2.COLOR_BGR2GRAY)\n",
    "    f = cv2.resize(f , (50,50))\n",
    "    features.append(f)\n",
    "    \n",
    "for img in tqdm(os.listdir(locH)):\n",
    "    f = cv2.imread(os.path.join(locH,img))\n",
    "    f = cv2.cvtColor(f , cv2.COLOR_BGR2GRAY)\n",
    "    f = cv2.resize(f , (50,50))\n",
    "    features.append(f)\n",
    "    \n",
    "for img in tqdm(os.listdir(locI)):\n",
    "    f = cv2.imread(os.path.join(locI,img))\n",
    "    f = cv2.cvtColor(f , cv2.COLOR_BGR2GRAY)        #convert colored images into grayscale format\n",
    "    f = cv2.resize(f , (50,50))\n",
    "    features.append(f)\n",
    "\n",
    "for img in tqdm(os.listdir(locJ)):\n",
    "    f = cv2.imread(os.path.join(locJ,img))\n",
    "    f = cv2.cvtColor(f , cv2.COLOR_BGR2GRAY)        #convert colored images into grayscale format\n",
    "    f = cv2.resize(f , (50,50))\n",
    "    features.append(f)\n",
    "    \n",
    "for img in tqdm(os.listdir(locK)):\n",
    "    f = cv2.imread(os.path.join(locK,img))\n",
    "    f = cv2.cvtColor(f , cv2.COLOR_BGR2GRAY)\n",
    "    f = cv2.resize(f , (50,50))\n",
    "    features.append(f)\n",
    "    \n",
    "for img in tqdm(os.listdir(locL)):\n",
    "    f = cv2.imread(os.path.join(locL,img))\n",
    "    f = cv2.cvtColor(f , cv2.COLOR_BGR2GRAY)\n",
    "    f = cv2.resize(f , (50,50))\n",
    "    features.append(f)\n",
    "    \n",
    "for img in tqdm(os.listdir(locM)):\n",
    "    f = cv2.imread(os.path.join(locM,img))\n",
    "    f = cv2.cvtColor(f , cv2.COLOR_BGR2GRAY)\n",
    "    f = cv2.resize(f , (50,50))\n",
    "    features.append(f)\n",
    "    \n",
    "for img in tqdm(os.listdir(locN)):\n",
    "    f = cv2.imread(os.path.join(locN,img))\n",
    "    f = cv2.cvtColor(f , cv2.COLOR_BGR2GRAY)        #convert colored images into grayscale format\n",
    "    f = cv2.resize(f , (50,50))\n",
    "    features.append(f)\n",
    "    \n",
    "for img in tqdm(os.listdir(locO)):\n",
    "    f = cv2.imread(os.path.join(locO,img))\n",
    "    f = cv2.cvtColor(f , cv2.COLOR_BGR2GRAY)\n",
    "    f = cv2.resize(f , (50,50))\n",
    "    features.append(f)\n",
    "    \n",
    "for img in tqdm(os.listdir(locP)):\n",
    "    f = cv2.imread(os.path.join(locP,img))\n",
    "    f = cv2.cvtColor(f , cv2.COLOR_BGR2GRAY)\n",
    "    f = cv2.resize(f , (50,50))\n",
    "    features.append(f)\n",
    "    \n",
    "for img in tqdm(os.listdir(locQ)):\n",
    "    f = cv2.imread(os.path.join(locQ,img))\n",
    "    f = cv2.cvtColor(f , cv2.COLOR_BGR2GRAY)\n",
    "    f = cv2.resize(f , (50,50))\n",
    "    features.append(f)\n",
    "    \n",
    "for img in tqdm(os.listdir(locR)):\n",
    "    f = cv2.imread(os.path.join(locR,img))\n",
    "    f = cv2.cvtColor(f , cv2.COLOR_BGR2GRAY)        #convert colored images into grayscale format\n",
    "    f = cv2.resize(f , (50,50))\n",
    "    features.append(f)\n",
    "\n",
    "for img in tqdm(os.listdir(locS)):\n",
    "    f = cv2.imread(os.path.join(locS,img))\n",
    "    f = cv2.cvtColor(f , cv2.COLOR_BGR2GRAY)        #convert colored images into grayscale format\n",
    "    f = cv2.resize(f , (50,50))\n",
    "    features.append(f)\n",
    "    \n",
    "for img in tqdm(os.listdir(locT)):\n",
    "    f = cv2.imread(os.path.join(locT,img))\n",
    "    f = cv2.cvtColor(f , cv2.COLOR_BGR2GRAY)\n",
    "    f = cv2.resize(f , (50,50))\n",
    "    features.append(f)\n",
    "    \n",
    "for img in tqdm(os.listdir(locU)):\n",
    "    f = cv2.imread(os.path.join(locU,img))\n",
    "    f = cv2.cvtColor(f , cv2.COLOR_BGR2GRAY)\n",
    "    f = cv2.resize(f , (50,50))\n",
    "    features.append(f)\n",
    "    \n",
    "for img in tqdm(os.listdir(locV)):\n",
    "    f = cv2.imread(os.path.join(locV,img))\n",
    "    f = cv2.cvtColor(f , cv2.COLOR_BGR2GRAY)\n",
    "    f = cv2.resize(f , (50,50))\n",
    "    features.append(f)\n",
    "    \n",
    "for img in tqdm(os.listdir(locW)):\n",
    "    f = cv2.imread(os.path.join(locW,img))\n",
    "    f = cv2.cvtColor(f , cv2.COLOR_BGR2GRAY)        #convert colored images into grayscale format\n",
    "    f = cv2.resize(f , (50,50))\n",
    "    features.append(f)\n",
    "    \n",
    "for img in tqdm(os.listdir(locX)):\n",
    "    f = cv2.imread(os.path.join(locX,img))\n",
    "    f = cv2.cvtColor(f , cv2.COLOR_BGR2GRAY)\n",
    "    f = cv2.resize(f , (50,50))\n",
    "    features.append(f)\n",
    "    \n",
    "for img in tqdm(os.listdir(locY)):\n",
    "    f = cv2.imread(os.path.join(locY,img))\n",
    "    f = cv2.cvtColor(f , cv2.COLOR_BGR2GRAY)\n",
    "    f = cv2.resize(f , (50,50))\n",
    "    features.append(f)\n",
    "    \n",
    "for img in tqdm(os.listdir(locZ)):\n",
    "    f = cv2.imread(os.path.join(locZ,img))\n",
    "    f = cv2.cvtColor(f , cv2.COLOR_BGR2GRAY)\n",
    "    f = cv2.resize(f , (50,50))\n",
    "    features.append(f)"
   ]
  },
  {
   "cell_type": "code",
   "execution_count": 131,
   "id": "9083502d",
   "metadata": {},
   "outputs": [
    {
     "name": "stderr",
     "output_type": "stream",
     "text": [
      "100%|█████████████████████████████████████████████████████████████████████████| 1200/1200 [00:00<00:00, 1212226.59it/s]\n",
      "100%|██████████████████████████████████████████████████████████████████████████| 1200/1200 [00:00<00:00, 800821.77it/s]\n",
      "100%|█████████████████████████████████████████████████████████████████████████| 1200/1200 [00:00<00:00, 1202093.34it/s]\n",
      "100%|█████████████████████████████████████████████████████████████████████████| 1200/1200 [00:00<00:00, 1205837.28it/s]\n",
      "100%|██████████████████████████████████████████████████████████████████████████| 1200/1200 [00:00<00:00, 595922.90it/s]\n",
      "100%|█████████████████████████████████████████████████████████████████████████| 1200/1200 [00:00<00:00, 1089901.43it/s]\n",
      "100%|█████████████████████████████████████████████████████████████████████████| 1200/1200 [00:00<00:00, 1194391.27it/s]\n",
      "100%|██████████████████████████████████████████████████████████████████████████████████████| 1200/1200 [00:00<?, ?it/s]\n",
      "100%|█████████████████████████████████████████████████████████████████████████| 1200/1200 [00:00<00:00, 1180108.98it/s]\n",
      "100%|██████████████████████████████████████████████████████████████████████████| 1200/1200 [00:00<00:00, 923516.48it/s]\n",
      "100%|█████████████████████████████████████████████████████████████████████████| 1200/1200 [00:00<00:00, 1110338.58it/s]\n",
      "100%|██████████████████████████████████████████████████████████████████████████████████████| 1200/1200 [00:00<?, ?it/s]\n",
      "100%|█████████████████████████████████████████████████████████████████████████| 1200/1200 [00:00<00:00, 1005627.33it/s]\n",
      "100%|█████████████████████████████████████████████████████████████████████████| 1200/1200 [00:00<00:00, 1199229.16it/s]\n",
      "100%|██████████████████████████████████████████████████████████████████████████████████████| 1200/1200 [00:00<?, ?it/s]\n",
      "100%|█████████████████████████████████████████████████████████████████████████| 1200/1200 [00:00<00:00, 1202667.81it/s]\n",
      "100%|██████████████████████████████████████████████████████████████████████████████████████| 1200/1200 [00:00<?, ?it/s]\n",
      "100%|██████████████████████████████████████████████████████████████████████████████████████| 1200/1200 [00:00<?, ?it/s]\n",
      "100%|██████████████████████████████████████████████████████████████████████████████████████| 1200/1200 [00:00<?, ?it/s]\n",
      "100%|█████████████████████████████████████████████████████████████████████████| 1200/1200 [00:00<00:00, 1135129.63it/s]\n",
      "100%|██████████████████████████████████████████████████████████████████████████████████████| 1200/1200 [00:00<?, ?it/s]\n",
      "100%|█████████████████████████████████████████████████████████████████████████| 1200/1200 [00:00<00:00, 1038194.06it/s]\n",
      "100%|██████████████████████████████████████████████████████████████████████████| 1200/1200 [00:00<00:00, 853078.78it/s]\n",
      "100%|██████████████████████████████████████████████████████████████████████████| 1200/1200 [00:00<00:00, 608605.18it/s]\n",
      "100%|█████████████████████████████████████████████████████████████████████████| 1200/1200 [00:00<00:00, 1207573.13it/s]\n",
      "100%|█████████████████████████████████████████████████████████████████████████| 1200/1200 [00:00<00:00, 1030963.70it/s]\n",
      "100%|██████████████████████████████████████████████████████████████████████████████████████| 1200/1200 [00:00<?, ?it/s]\n",
      "100%|█████████████████████████████████████████████████████████████████████████| 1200/1200 [00:00<00:00, 1155455.65it/s]\n",
      "100%|█████████████████████████████████████████████████████████████████████████| 1200/1200 [00:00<00:00, 1190436.33it/s]\n",
      "100%|█████████████████████████████████████████████████████████████████████████| 1200/1200 [00:00<00:00, 1202955.26it/s]\n",
      "100%|█████████████████████████████████████████████████████████████████████████| 1200/1200 [00:00<00:00, 1173779.10it/s]\n",
      "100%|█████████████████████████████████████████████████████████████████████████| 1200/1200 [00:00<00:00, 2379746.95it/s]\n",
      "100%|██████████████████████████████████████████████████████████████████████████████████████| 1200/1200 [00:00<?, ?it/s]\n",
      "100%|█████████████████████████████████████████████████████████████████████████| 1200/1200 [00:00<00:00, 1194674.77it/s]\n",
      "100%|█████████████████████████████████████████████████████████████████████████| 1200/1200 [00:00<00:00, 1201519.41it/s]\n"
     ]
    }
   ],
   "source": [
    "labels = []\n",
    "\n",
    "for img in tqdm(os.listdir(loc1)):\n",
    "    labels.append(1)\n",
    "    \n",
    "for img in tqdm(os.listdir(loc2)):\n",
    "    labels.append(2)\n",
    "    \n",
    "for img in tqdm(os.listdir(loc3)):\n",
    "    labels.append(3)\n",
    "    \n",
    "for img in tqdm(os.listdir(loc4)):\n",
    "    labels.append(4)\n",
    "    \n",
    "for img in tqdm(os.listdir(loc5)):\n",
    "    labels.append(5)\n",
    "    \n",
    "for img in tqdm(os.listdir(loc6)):\n",
    "    labels.append(6)\n",
    "    \n",
    "for img in tqdm(os.listdir(loc7)):\n",
    "    labels.append(7)\n",
    "    \n",
    "for img in tqdm(os.listdir(loc8)):\n",
    "    labels.append(8)\n",
    "    \n",
    "for img in tqdm(os.listdir(loc9)):\n",
    "    labels.append(9)\n",
    "    \n",
    "for img in tqdm(os.listdir(locA)):\n",
    "    labels.append(10)\n",
    "    \n",
    "for img in tqdm(os.listdir(locB)):\n",
    "    labels.append(11)\n",
    "    \n",
    "for img in tqdm(os.listdir(locC)):\n",
    "    labels.append(12)\n",
    "    \n",
    "for img in tqdm(os.listdir(locD)):\n",
    "    labels.append(13)\n",
    "    \n",
    "for img in tqdm(os.listdir(locE)):\n",
    "    labels.append(14)\n",
    "    \n",
    "for img in tqdm(os.listdir(locF)):\n",
    "    labels.append(15)\n",
    "    \n",
    "for img in tqdm(os.listdir(locG)):\n",
    "    labels.append(16)\n",
    "    \n",
    "for img in tqdm(os.listdir(locH)):\n",
    "    labels.append(17)\n",
    "    \n",
    "for img in tqdm(os.listdir(locI)):\n",
    "    labels.append(18)\n",
    "\n",
    "for img in tqdm(os.listdir(locJ)):\n",
    "    labels.append(19)\n",
    "    \n",
    "for img in tqdm(os.listdir(locK)):\n",
    "    labels.append(20)\n",
    "    \n",
    "for img in tqdm(os.listdir(locL)):\n",
    "    labels.append(21)\n",
    "    \n",
    "for img in tqdm(os.listdir(locM)):\n",
    "    labels.append(22)\n",
    "    \n",
    "for img in tqdm(os.listdir(locN)):\n",
    "    labels.append(23)\n",
    "    \n",
    "for img in tqdm(os.listdir(locO)):\n",
    "    labels.append(24)\n",
    "    \n",
    "for img in tqdm(os.listdir(locP)):\n",
    "    labels.append(25)\n",
    "    \n",
    "for img in tqdm(os.listdir(locQ)):\n",
    "    labels.append(26)\n",
    "    \n",
    "for img in tqdm(os.listdir(locR)):\n",
    "    labels.append(27)\n",
    "    \n",
    "for img in tqdm(os.listdir(locS)):\n",
    "    labels.append(28)\n",
    "    \n",
    "for img in tqdm(os.listdir(locT)):\n",
    "    labels.append(29)\n",
    "    \n",
    "for img in tqdm(os.listdir(locU)):\n",
    "    labels.append(30)\n",
    "    \n",
    "for img in tqdm(os.listdir(locV)):\n",
    "    labels.append(31)\n",
    "    \n",
    "for img in tqdm(os.listdir(locW)):\n",
    "    labels.append(32)\n",
    "    \n",
    "for img in tqdm(os.listdir(locX)):\n",
    "    labels.append(33)\n",
    "    \n",
    "for img in tqdm(os.listdir(locY)):\n",
    "    labels.append(34)\n",
    "    \n",
    "for img in tqdm(os.listdir(locZ)):\n",
    "    labels.append(35)"
   ]
  },
  {
   "cell_type": "code",
   "execution_count": 132,
   "id": "3e76ce52",
   "metadata": {},
   "outputs": [
    {
     "name": "stdout",
     "output_type": "stream",
     "text": [
      "(42000, 50, 50)\n",
      "(42000,)\n"
     ]
    }
   ],
   "source": [
    "import numpy as np\n",
    "\n",
    "X = np.array(features)\n",
    "print(X.shape)\n",
    "\n",
    "Y = np.array(labels)\n",
    "print(Y.shape)"
   ]
  },
  {
   "cell_type": "code",
   "execution_count": 133,
   "id": "94af73d2",
   "metadata": {},
   "outputs": [
    {
     "data": {
      "image/png": "[encoded data removed]",
      "text/plain": [
       "<Figure size 432x288 with 1 Axes>"
      ]
     },
     "metadata": {
      "needs_background": "light"
     },
     "output_type": "display_data"
    }
   ],
   "source": [
    "import matplotlib.pyplot as plt\n",
    "plt.imshow(X[678] , cmap='gray')\n",
    "plt.show()"
   ]
  },
  {
   "cell_type": "code",
   "execution_count": 134,
   "id": "ddb379f3",
   "metadata": {},
   "outputs": [
    {
     "data": {
      "image/png": "[encoded data removed]",
      "text/plain": [
       "<Figure size 432x288 with 1 Axes>"
      ]
     },
     "metadata": {
      "needs_background": "light"
     },
     "output_type": "display_data"
    }
   ],
   "source": [
    "import matplotlib.pyplot as plt\n",
    "plt.imshow(X[1778] , cmap='gray')\n",
    "plt.show()"
   ]
  },
  {
   "cell_type": "code",
   "execution_count": 135,
   "id": "1b1d29ea",
   "metadata": {},
   "outputs": [
    {
     "data": {
      "image/png": "[encoded data removed]",
      "text/plain": [
       "<Figure size 432x288 with 1 Axes>"
      ]
     },
     "metadata": {
      "needs_background": "light"
     },
     "output_type": "display_data"
    }
   ],
   "source": [
    "import matplotlib.pyplot as plt\n",
    "plt.imshow(X[2778] , cmap='gray')\n",
    "plt.show()"
   ]
  },
  {
   "cell_type": "code",
   "execution_count": 136,
   "id": "5f305fd3",
   "metadata": {},
   "outputs": [
    {
     "data": {
      "image/png": "[encoded data removed]",
      "text/plain": [
       "<Figure size 432x288 with 1 Axes>"
      ]
     },
     "metadata": {
      "needs_background": "light"
     },
     "output_type": "display_data"
    }
   ],
   "source": [
    "import matplotlib.pyplot as plt\n",
    "plt.imshow(X[3778] , cmap='gray')\n",
    "plt.show()"
   ]
  },
  {
   "cell_type": "code",
   "execution_count": 137,
   "id": "57683093",
   "metadata": {},
   "outputs": [
    {
     "data": {
      "image/png": "[encoded data removed]",
      "text/plain": [
       "<Figure size 432x288 with 1 Axes>"
      ]
     },
     "metadata": {
      "needs_background": "light"
     },
     "output_type": "display_data"
    }
   ],
   "source": [
    "import matplotlib.pyplot as plt\n",
    "plt.imshow(X[4778] , cmap='gray')\n",
    "plt.show()"
   ]
  },
  {
   "cell_type": "code",
   "execution_count": 138,
   "id": "bd1b521a",
   "metadata": {},
   "outputs": [
    {
     "data": {
      "image/png": "[encoded data removed]",
      "text/plain": [
       "<Figure size 432x288 with 1 Axes>"
      ]
     },
     "metadata": {
      "needs_background": "light"
     },
     "output_type": "display_data"
    }
   ],
   "source": [
    "import matplotlib.pyplot as plt\n",
    "plt.imshow(X[6778] , cmap='gray')\n",
    "plt.show()"
   ]
  },
  {
   "cell_type": "code",
   "execution_count": 139,
   "id": "318c9c7d",
   "metadata": {},
   "outputs": [
    {
     "data": {
      "image/png": "[encoded data removed]",
      "text/plain": [
       "<Figure size 432x288 with 1 Axes>"
      ]
     },
     "metadata": {
      "needs_background": "light"
     },
     "output_type": "display_data"
    }
   ],
   "source": [
    "import matplotlib.pyplot as plt\n",
    "plt.imshow(X[5778] , cmap='gray')\n",
    "plt.show()"
   ]
  },
  {
   "cell_type": "code",
   "execution_count": 140,
   "id": "3c8579d1",
   "metadata": {},
   "outputs": [
    {
     "data": {
      "image/png": "[encoded data removed]",
      "text/plain": [
       "<Figure size 432x288 with 1 Axes>"
      ]
     },
     "metadata": {
      "needs_background": "light"
     },
     "output_type": "display_data"
    }
   ],
   "source": [
    "import matplotlib.pyplot as plt\n",
    "plt.imshow(X[7778] , cmap='gray')\n",
    "plt.show()\n"
   ]
  },
  {
   "cell_type": "code",
   "execution_count": 141,
   "id": "f9222ff1",
   "metadata": {},
   "outputs": [
    {
     "data": {
      "image/png": "[encoded data removed]",
      "text/plain": [
       "<Figure size 432x288 with 1 Axes>"
      ]
     },
     "metadata": {
      "needs_background": "light"
     },
     "output_type": "display_data"
    }
   ],
   "source": [
    "import matplotlib.pyplot as plt\n",
    "plt.imshow(X[8778] , cmap='gray')\n",
    "plt.show()"
   ]
  },
  {
   "cell_type": "code",
   "execution_count": 142,
   "id": "43954b22",
   "metadata": {},
   "outputs": [
    {
     "data": {
      "image/png": "[encoded data removed]",
      "text/plain": [
       "<Figure size 432x288 with 1 Axes>"
      ]
     },
     "metadata": {
      "needs_background": "light"
     },
     "output_type": "display_data"
    }
   ],
   "source": [
    "import matplotlib.pyplot as plt\n",
    "plt.imshow(X[9778] , cmap='gray')\n",
    "plt.show()"
   ]
  },
  {
   "cell_type": "code",
   "execution_count": 151,
   "id": "5244c8f9",
   "metadata": {},
   "outputs": [],
   "source": [
    "import keras\n",
    "from keras.utils import np_utils\n",
    "\n",
    "X = X.reshape(42000,2500)\n",
    "X = np_utils.normalize(X)\n",
    "\n",
    "Y = np_utils.to_categorical(Y)"
   ]
  },
  {
   "cell_type": "code",
   "execution_count": 153,
   "id": "75f1d26d",
   "metadata": {},
   "outputs": [
    {
     "data": {
      "image/png": "[encoded data removed]",
      "text/plain": [
       "<Figure size 432x288 with 1 Axes>"
      ]
     },
     "metadata": {
      "needs_background": "light"
     },
     "output_type": "display_data"
    }
   ],
   "source": [
    "plt.imshow(X[678].reshape(50,50) , cmap='gray')\n",
    "plt.show()"
   ]
  },
  {
   "cell_type": "code",
   "execution_count": 154,
   "id": "baf1f2d7",
   "metadata": {},
   "outputs": [],
   "source": [
    "from sklearn.model_selection import train_test_split\n",
    "xtrain,xtest,ytrain,ytest = train_test_split(X,Y,train_size=0.9)"
   ]
  },
  {
   "cell_type": "code",
   "execution_count": 155,
   "id": "15282569",
   "metadata": {},
   "outputs": [],
   "source": [
    "from keras import models\n",
    "from keras import layers"
   ]
  },
  {
   "cell_type": "code",
   "execution_count": 166,
   "id": "742df644",
   "metadata": {},
   "outputs": [],
   "source": [
    "model = models.Sequential()\n",
    "\n",
    "model.add(layers.Dense(64 , activation='relu' , input_dim=2500))\n",
    "model.add(layers.Dense(32 , activation='relu'))\n",
    "model.add(layers.Dense(10 , activation='sigmoid'))"
   ]
  },
  {
   "cell_type": "code",
   "execution_count": 167,
   "id": "c20493d9",
   "metadata": {
    "scrolled": true
   },
   "outputs": [
    {
     "name": "stdout",
     "output_type": "stream",
     "text": [
      "Model: \"sequential_5\"\n",
      "_________________________________________________________________\n",
      " Layer (type)                Output Shape              Param #   \n",
      "=================================================================\n",
      " dense_17 (Dense)            (None, 64)                160064    \n",
      "                                                                 \n",
      " dense_18 (Dense)            (None, 32)                2080      \n",
      "                                                                 \n",
      " dense_19 (Dense)            (None, 10)                330       \n",
      "                                                                 \n",
      "=================================================================\n",
      "Total params: 162,474\n",
      "Trainable params: 162,474\n",
      "Non-trainable params: 0\n",
      "_________________________________________________________________\n"
     ]
    }
   ],
   "source": [
    "model.summary()"
   ]
  },
  {
   "cell_type": "code",
   "execution_count": 168,
   "id": "4489f7c6",
   "metadata": {},
   "outputs": [],
   "source": [
    "import tensorflow as tf\n",
    "\n",
    "sgd = tf.keras.optimizers.SGD(learning_rate = 0.1)\n",
    "model.compile(optimizer='sgd' , loss = 'categorical_crossentropy' , metrics = ['accuracy'])"
   ]
  },
  {
   "cell_type": "code",
   "execution_count": 169,
   "id": "3e3ee0cc",
   "metadata": {
    "scrolled": false
   },
   "outputs": [
    {
     "name": "stdout",
     "output_type": "stream",
     "text": [
      "Epoch 1/20\n"
     ]
    },
    {
     "ename": "ValueError",
     "evalue": "in user code:\n\n    File \"C:\\Users\\91926\\anaconda3\\lib\\site-packages\\keras\\engine\\training.py\", line 1249, in train_function  *\n        return step_function(self, iterator)\n    File \"C:\\Users\\91926\\anaconda3\\lib\\site-packages\\keras\\engine\\training.py\", line 1233, in step_function  **\n        outputs = model.distribute_strategy.run(run_step, args=(data,))\n    File \"C:\\Users\\91926\\anaconda3\\lib\\site-packages\\keras\\engine\\training.py\", line 1222, in run_step  **\n        outputs = model.train_step(data)\n    File \"C:\\Users\\91926\\anaconda3\\lib\\site-packages\\keras\\engine\\training.py\", line 1024, in train_step\n        loss = self.compute_loss(x, y, y_pred, sample_weight)\n    File \"C:\\Users\\91926\\anaconda3\\lib\\site-packages\\keras\\engine\\training.py\", line 1082, in compute_loss\n        return self.compiled_loss(\n    File \"C:\\Users\\91926\\anaconda3\\lib\\site-packages\\keras\\engine\\compile_utils.py\", line 265, in __call__\n        loss_value = loss_obj(y_t, y_p, sample_weight=sw)\n    File \"C:\\Users\\91926\\anaconda3\\lib\\site-packages\\keras\\losses.py\", line 152, in __call__\n        losses = call_fn(y_true, y_pred)\n    File \"C:\\Users\\91926\\anaconda3\\lib\\site-packages\\keras\\losses.py\", line 284, in call  **\n        return ag_fn(y_true, y_pred, **self._fn_kwargs)\n    File \"C:\\Users\\91926\\anaconda3\\lib\\site-packages\\keras\\losses.py\", line 2004, in categorical_crossentropy\n        return backend.categorical_crossentropy(\n    File \"C:\\Users\\91926\\anaconda3\\lib\\site-packages\\keras\\backend.py\", line 5532, in categorical_crossentropy\n        target.shape.assert_is_compatible_with(output.shape)\n\n    ValueError: Shapes (None, 36, 2, 2) and (None, 10) are incompatible\n",
     "output_type": "error",
     "traceback": [
      "\u001b[1;31m---------------------------------------------------------------------------\u001b[0m",
      "\u001b[1;31mValueError\u001b[0m                                Traceback (most recent call last)",
      "Input \u001b[1;32mIn [169]\u001b[0m, in \u001b[0;36m<cell line: 1>\u001b[1;34m()\u001b[0m\n\u001b[1;32m----> 1\u001b[0m \u001b[43mmodel\u001b[49m\u001b[38;5;241;43m.\u001b[39;49m\u001b[43mfit\u001b[49m\u001b[43m(\u001b[49m\u001b[43mxtrain\u001b[49m\u001b[43m,\u001b[49m\u001b[43mytrain\u001b[49m\u001b[43m,\u001b[49m\u001b[43mepochs\u001b[49m\u001b[38;5;241;43m=\u001b[39;49m\u001b[38;5;241;43m20\u001b[39;49m\u001b[43m,\u001b[49m\u001b[43m \u001b[49m\u001b[43mvalidation_data\u001b[49m\u001b[38;5;241;43m=\u001b[39;49m\u001b[43m(\u001b[49m\u001b[43mxtest\u001b[49m\u001b[43m,\u001b[49m\u001b[43mytest\u001b[49m\u001b[43m)\u001b[49m\u001b[43m)\u001b[49m\n",
      "File \u001b[1;32m~\\anaconda3\\lib\\site-packages\\keras\\utils\\traceback_utils.py:70\u001b[0m, in \u001b[0;36mfilter_traceback.<locals>.error_handler\u001b[1;34m(*args, **kwargs)\u001b[0m\n\u001b[0;32m     67\u001b[0m     filtered_tb \u001b[38;5;241m=\u001b[39m _process_traceback_frames(e\u001b[38;5;241m.\u001b[39m__traceback__)\n\u001b[0;32m     68\u001b[0m     \u001b[38;5;66;03m# To get the full stack trace, call:\u001b[39;00m\n\u001b[0;32m     69\u001b[0m     \u001b[38;5;66;03m# `tf.debugging.disable_traceback_filtering()`\u001b[39;00m\n\u001b[1;32m---> 70\u001b[0m     \u001b[38;5;28;01mraise\u001b[39;00m e\u001b[38;5;241m.\u001b[39mwith_traceback(filtered_tb) \u001b[38;5;28;01mfrom\u001b[39;00m \u001b[38;5;28mNone\u001b[39m\n\u001b[0;32m     71\u001b[0m \u001b[38;5;28;01mfinally\u001b[39;00m:\n\u001b[0;32m     72\u001b[0m     \u001b[38;5;28;01mdel\u001b[39;00m filtered_tb\n",
      "File \u001b[1;32m~\\AppData\\Local\\Temp\\__autograph_generated_fileps4pxpek.py:15\u001b[0m, in \u001b[0;36mouter_factory.<locals>.inner_factory.<locals>.tf__train_function\u001b[1;34m(iterator)\u001b[0m\n\u001b[0;32m     13\u001b[0m \u001b[38;5;28;01mtry\u001b[39;00m:\n\u001b[0;32m     14\u001b[0m     do_return \u001b[38;5;241m=\u001b[39m \u001b[38;5;28;01mTrue\u001b[39;00m\n\u001b[1;32m---> 15\u001b[0m     retval_ \u001b[38;5;241m=\u001b[39m ag__\u001b[38;5;241m.\u001b[39mconverted_call(ag__\u001b[38;5;241m.\u001b[39mld(step_function), (ag__\u001b[38;5;241m.\u001b[39mld(\u001b[38;5;28mself\u001b[39m), ag__\u001b[38;5;241m.\u001b[39mld(iterator)), \u001b[38;5;28;01mNone\u001b[39;00m, fscope)\n\u001b[0;32m     16\u001b[0m \u001b[38;5;28;01mexcept\u001b[39;00m:\n\u001b[0;32m     17\u001b[0m     do_return \u001b[38;5;241m=\u001b[39m \u001b[38;5;28;01mFalse\u001b[39;00m\n",
      "\u001b[1;31mValueError\u001b[0m: in user code:\n\n    File \"C:\\Users\\91926\\anaconda3\\lib\\site-packages\\keras\\engine\\training.py\", line 1249, in train_function  *\n        return step_function(self, iterator)\n    File \"C:\\Users\\91926\\anaconda3\\lib\\site-packages\\keras\\engine\\training.py\", line 1233, in step_function  **\n        outputs = model.distribute_strategy.run(run_step, args=(data,))\n    File \"C:\\Users\\91926\\anaconda3\\lib\\site-packages\\keras\\engine\\training.py\", line 1222, in run_step  **\n        outputs = model.train_step(data)\n    File \"C:\\Users\\91926\\anaconda3\\lib\\site-packages\\keras\\engine\\training.py\", line 1024, in train_step\n        loss = self.compute_loss(x, y, y_pred, sample_weight)\n    File \"C:\\Users\\91926\\anaconda3\\lib\\site-packages\\keras\\engine\\training.py\", line 1082, in compute_loss\n        return self.compiled_loss(\n    File \"C:\\Users\\91926\\anaconda3\\lib\\site-packages\\keras\\engine\\compile_utils.py\", line 265, in __call__\n        loss_value = loss_obj(y_t, y_p, sample_weight=sw)\n    File \"C:\\Users\\91926\\anaconda3\\lib\\site-packages\\keras\\losses.py\", line 152, in __call__\n        losses = call_fn(y_true, y_pred)\n    File \"C:\\Users\\91926\\anaconda3\\lib\\site-packages\\keras\\losses.py\", line 284, in call  **\n        return ag_fn(y_true, y_pred, **self._fn_kwargs)\n    File \"C:\\Users\\91926\\anaconda3\\lib\\site-packages\\keras\\losses.py\", line 2004, in categorical_crossentropy\n        return backend.categorical_crossentropy(\n    File \"C:\\Users\\91926\\anaconda3\\lib\\site-packages\\keras\\backend.py\", line 5532, in categorical_crossentropy\n        target.shape.assert_is_compatible_with(output.shape)\n\n    ValueError: Shapes (None, 36, 2, 2) and (None, 10) are incompatible\n"
     ]
    }
   ],
   "source": [
    "model.fit(xtrain,ytrain,epochs=20, validation_data=(xtest,ytest))"
   ]
  },
  {
   "cell_type": "code",
   "execution_count": 116,
   "id": "fab6af33",
   "metadata": {},
   "outputs": [
    {
     "data": {
      "text/plain": [
       "2700000"
      ]
     },
     "execution_count": 116,
     "metadata": {},
     "output_type": "execute_result"
    }
   ],
   "source": [
    "np.size(xtest)"
   ]
  },
  {
   "cell_type": "code",
   "execution_count": 125,
   "id": "74e634d5",
   "metadata": {},
   "outputs": [
    {
     "name": "stdout",
     "output_type": "stream",
     "text": [
      "34/34 [==============================] - 0s 2ms/step\n"
     ]
    }
   ],
   "source": [
    "df = pd.DataFrame(model.predict(xtest))"
   ]
  },
  {
   "cell_type": "code",
   "execution_count": 127,
   "id": "8bb57340",
   "metadata": {},
   "outputs": [],
   "source": [
    "df.to_csv('score.csv',index=False)"
   ]
  },
  {
   "cell_type": "code",
   "execution_count": 119,
   "id": "5da41df2",
   "metadata": {
    "scrolled": false
   },
   "outputs": [
    {
     "name": "stdout",
     "output_type": "stream",
     "text": [
      "34/34 [==============================] - 0s 2ms/step\n"
     ]
    },
    {
     "data": {
      "text/plain": [
       "0.20703114149305557"
      ]
     },
     "execution_count": 119,
     "metadata": {},
     "output_type": "execute_result"
    }
   ],
   "source": [
    "score = model.predict(xtest)\n",
    "np.sum(score)/np.size(xtest) * 100"
   ]
  },
  {
   "cell_type": "code",
   "execution_count": 160,
   "id": "65e37ff3",
   "metadata": {},
   "outputs": [
    {
     "data": {
      "text/plain": [
       "(37800, 2500)"
      ]
     },
     "execution_count": 160,
     "metadata": {},
     "output_type": "execute_result"
    }
   ],
   "source": [
    "xtrain.shape"
   ]
  },
  {
   "cell_type": "code",
   "execution_count": 161,
   "id": "cc81bd8f",
   "metadata": {},
   "outputs": [
    {
     "data": {
      "text/plain": [
       "(37800, 36, 2, 2)"
      ]
     },
     "execution_count": 161,
     "metadata": {},
     "output_type": "execute_result"
    }
   ],
   "source": [
    "ytrain.shape"
   ]
  },
  {
   "cell_type": "code",
   "execution_count": 162,
   "id": "0545ddfa",
   "metadata": {},
   "outputs": [
    {
     "data": {
      "text/plain": [
       "(4200, 2500)"
      ]
     },
     "execution_count": 162,
     "metadata": {},
     "output_type": "execute_result"
    }
   ],
   "source": [
    "xtest.shape"
   ]
  },
  {
   "cell_type": "code",
   "execution_count": 163,
   "id": "a8a59e06",
   "metadata": {},
   "outputs": [
    {
     "data": {
      "text/plain": [
       "(4200, 36, 2, 2)"
      ]
     },
     "execution_count": 163,
     "metadata": {},
     "output_type": "execute_result"
    }
   ],
   "source": [
    "ytest.shape"
   ]
  },
  {
   "cell_type": "code",
   "execution_count": null,
   "id": "344f1053",
   "metadata": {},
   "outputs": [],
   "source": []
  }
 ],
 "metadata": {
  "kernelspec": {
   "display_name": "Python 3 (ipykernel)",
   "language": "python",
   "name": "python3"
  },
  "language_info": {
   "codemirror_mode": {
    "name": "ipython",
    "version": 3
   },
   "file_extension": ".py",
   "mimetype": "text/x-python",
   "name": "python",
   "nbconvert_exporter": "python",
   "pygments_lexer": "ipython3",
   "version": "3.9.12"
  }
 },
 "nbformat": 4,
 "nbformat_minor": 5
}
